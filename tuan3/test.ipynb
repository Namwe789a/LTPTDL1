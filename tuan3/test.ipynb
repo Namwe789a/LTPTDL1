{
 "cells": [
  {
   "cell_type": "code",
   "execution_count": 2,
   "metadata": {},
   "outputs": [
    {
     "name": "stdout",
     "output_type": "stream",
     "text": [
      "Giá trị trung bình của SALES: 3553.889071909316\n",
      "Độ lệch chuẩn của SALES: 1841.865105740182\n",
      "Giá trị trước chuẩn hóa là: 4014.3553483443616\n"
     ]
    }
   ],
   "source": [
    "import pandas as pd\n",
    "\n",
    "# Bước 1: Đọc file Excel\n",
    "file_path = 'sales_data_sample.xlsx'\n",
    "df = pd.read_excel(file_path)\n",
    "\n",
    "# Kiểm tra nếu cột 'SALES' tồn tại trong dataframe\n",
    "if 'SALES' in df.columns:\n",
    "    # Bước 2: Tính giá trị trung bình và độ lệch chuẩn của cột SALES\n",
    "    mean_sales = df['SALES'].mean()\n",
    "    std_sales = df['SALES'].std()\n",
    "\n",
    "    print(f\"Giá trị trung bình của SALES: {mean_sales}\")\n",
    "    print(f\"Độ lệch chuẩn của SALES: {std_sales}\")\n",
    "\n",
    "    # Giá trị sau khi chuẩn hóa\n",
    "    z_score = 0.25\n",
    "\n",
    "    # Tính giá trị trước khi chuẩn hóa\n",
    "    original_value = z_score * std_sales + mean_sales\n",
    "    print(f\"Giá trị trước chuẩn hóa là: {original_value}\")\n",
    "else:\n",
    "    print(\"Cột 'SALES' không tồn tại trong file Excel.\")\n"
   ]
  },
  {
   "cell_type": "code",
   "execution_count": 1,
   "metadata": {},
   "outputs": [
    {
     "name": "stdout",
     "output_type": "stream",
     "text": [
      "Độ lệch của SALES trước khi log: 1.160458972499323\n",
      "Độ lệch của SALES sau khi log: -0.20150542936667845\n"
     ]
    }
   ],
   "source": [
    "import pandas as pd\n",
    "import numpy as np\n",
    "from scipy.stats import skew\n",
    "\n",
    "# Bước 1: Đọc file Excel\n",
    "file_path = 'sales_data_sample.xlsx'\n",
    "df = pd.read_excel(file_path)\n",
    "\n",
    "# Kiểm tra nếu cột 'SALES' tồn tại trong dataframe\n",
    "if 'SALES' in df.columns:\n",
    "    # Bước 2: Tính độ lệch của cột SALES trước khi áp dụng log\n",
    "    sales_skew_before = skew(df['SALES'].dropna())\n",
    "    print(f\"Độ lệch của SALES trước khi log: {sales_skew_before}\")\n",
    "    \n",
    "    # Bước 3: Áp dụng log transformation (thêm 1 để tránh log(0))\n",
    "    df['SALES_log'] = np.log(df['SALES'] + 1)\n",
    "    \n",
    "    # Bước 4: Tính độ lệch của cột SALES sau khi áp dụng log\n",
    "    sales_skew_after = skew(df['SALES_log'].dropna())\n",
    "    print(f\"Độ lệch của SALES sau khi log: {sales_skew_after}\")\n",
    "    \n",
    "else:\n",
    "    print(\"Cột 'SALES' không tồn tại trong file Excel.\")\n",
    "\n"
   ]
  },
  {
   "cell_type": "code",
   "execution_count": null,
   "metadata": {},
   "outputs": [],
   "source": []
  }
 ],
 "metadata": {
  "kernelspec": {
   "display_name": "Python 3",
   "language": "python",
   "name": "python3"
  },
  "language_info": {
   "codemirror_mode": {
    "name": "ipython",
    "version": 3
   },
   "file_extension": ".py",
   "mimetype": "text/x-python",
   "name": "python",
   "nbconvert_exporter": "python",
   "pygments_lexer": "ipython3",
   "version": "3.12.5"
  }
 },
 "nbformat": 4,
 "nbformat_minor": 2
}
