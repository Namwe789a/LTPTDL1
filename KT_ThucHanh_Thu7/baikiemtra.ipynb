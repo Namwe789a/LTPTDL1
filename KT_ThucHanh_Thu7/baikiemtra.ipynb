{
 "cells": [
  {
   "cell_type": "code",
   "execution_count": 2,
   "metadata": {},
   "outputs": [],
   "source": [
    "import pandas as pd\n",
    "import matplotlib.pylab as plt"
   ]
  },
  {
   "cell_type": "code",
   "execution_count": 3,
   "metadata": {},
   "outputs": [
    {
     "data": {
      "text/html": [
       "<div>\n",
       "<style scoped>\n",
       "    .dataframe tbody tr th:only-of-type {\n",
       "        vertical-align: middle;\n",
       "    }\n",
       "\n",
       "    .dataframe tbody tr th {\n",
       "        vertical-align: top;\n",
       "    }\n",
       "\n",
       "    .dataframe thead th {\n",
       "        text-align: right;\n",
       "    }\n",
       "</style>\n",
       "<table border=\"1\" class=\"dataframe\">\n",
       "  <thead>\n",
       "    <tr style=\"text-align: right;\">\n",
       "      <th></th>\n",
       "      <th>ORDERNUMBER</th>\n",
       "      <th>QUANTITYORDERED</th>\n",
       "      <th>ORDERLINENUMBER</th>\n",
       "      <th>SALES</th>\n",
       "      <th>ORDERDATE</th>\n",
       "      <th>STATUS</th>\n",
       "      <th>COUNTRY</th>\n",
       "      <th>DEALSIZE</th>\n",
       "      <th>Discount</th>\n",
       "      <th>Profit</th>\n",
       "    </tr>\n",
       "  </thead>\n",
       "  <tbody>\n",
       "    <tr>\n",
       "      <th>0</th>\n",
       "      <td>10107</td>\n",
       "      <td>30</td>\n",
       "      <td>2</td>\n",
       "      <td>2871.00</td>\n",
       "      <td>2003-02-24</td>\n",
       "      <td>Shipped</td>\n",
       "      <td>USA</td>\n",
       "      <td>Small</td>\n",
       "      <td>0.00</td>\n",
       "      <td>41.9136</td>\n",
       "    </tr>\n",
       "    <tr>\n",
       "      <th>1</th>\n",
       "      <td>10121</td>\n",
       "      <td>34</td>\n",
       "      <td>5</td>\n",
       "      <td>2765.90</td>\n",
       "      <td>2003-05-07</td>\n",
       "      <td>Shipped</td>\n",
       "      <td>France</td>\n",
       "      <td>Small</td>\n",
       "      <td>0.00</td>\n",
       "      <td>219.5820</td>\n",
       "    </tr>\n",
       "    <tr>\n",
       "      <th>2</th>\n",
       "      <td>10134</td>\n",
       "      <td>41</td>\n",
       "      <td>2</td>\n",
       "      <td>3884.34</td>\n",
       "      <td>2003-07-01</td>\n",
       "      <td>Shipped</td>\n",
       "      <td>France</td>\n",
       "      <td>Medium</td>\n",
       "      <td>0.00</td>\n",
       "      <td>6.8714</td>\n",
       "    </tr>\n",
       "    <tr>\n",
       "      <th>3</th>\n",
       "      <td>10145</td>\n",
       "      <td>45</td>\n",
       "      <td>6</td>\n",
       "      <td>3746.70</td>\n",
       "      <td>2003-08-25</td>\n",
       "      <td>Shipped</td>\n",
       "      <td>USA</td>\n",
       "      <td>Medium</td>\n",
       "      <td>0.45</td>\n",
       "      <td>-383.0310</td>\n",
       "    </tr>\n",
       "    <tr>\n",
       "      <th>4</th>\n",
       "      <td>10159</td>\n",
       "      <td>49</td>\n",
       "      <td>14</td>\n",
       "      <td>5205.27</td>\n",
       "      <td>2003-10-10</td>\n",
       "      <td>Shipped</td>\n",
       "      <td>USA</td>\n",
       "      <td>Medium</td>\n",
       "      <td>0.20</td>\n",
       "      <td>2.5164</td>\n",
       "    </tr>\n",
       "  </tbody>\n",
       "</table>\n",
       "</div>"
      ],
      "text/plain": [
       "   ORDERNUMBER  QUANTITYORDERED  ORDERLINENUMBER    SALES  ORDERDATE   STATUS  \\\n",
       "0        10107               30                2  2871.00 2003-02-24  Shipped   \n",
       "1        10121               34                5  2765.90 2003-05-07  Shipped   \n",
       "2        10134               41                2  3884.34 2003-07-01  Shipped   \n",
       "3        10145               45                6  3746.70 2003-08-25  Shipped   \n",
       "4        10159               49               14  5205.27 2003-10-10  Shipped   \n",
       "\n",
       "  COUNTRY DEALSIZE  Discount    Profit  \n",
       "0     USA    Small      0.00   41.9136  \n",
       "1  France    Small      0.00  219.5820  \n",
       "2  France   Medium      0.00    6.8714  \n",
       "3     USA   Medium      0.45 -383.0310  \n",
       "4     USA   Medium      0.20    2.5164  "
      ]
     },
     "execution_count": 3,
     "metadata": {},
     "output_type": "execute_result"
    }
   ],
   "source": [
    "df = pd.read_excel('sales_data_sample.xlsx', sheet_name=\"saledata\")\n",
    "df.head(5)"
   ]
  },
  {
   "cell_type": "code",
   "execution_count": 37,
   "metadata": {},
   "outputs": [
    {
     "name": "stdout",
     "output_type": "stream",
     "text": [
      "UK\n"
     ]
    }
   ],
   "source": [
    "import pandas as pd\n",
    "\n",
    "# Load the Excel file\n",
    "file_path = 'sales_data_sample.xlsx'\n",
    "excel_data = pd.ExcelFile(file_path)\n",
    "\n",
    "# Load the data from the 'saledata' sheet\n",
    "sales_data = pd.read_excel(file_path, sheet_name='saledata')\n",
    "\n",
    "# Grouping the data by 'COUNTRY' and summing up the 'SALES'\n",
    "country_sales = sales_data.groupby('COUNTRY')['SALES'].sum().sort_values(ascending=False)\n",
    "\n",
    "# Finding the country with the 5th highest sales\n",
    "fifth_highest_country = country_sales.index[4]\n",
    "print(fifth_highest_country)\n"
   ]
  },
  {
   "cell_type": "code",
   "execution_count": 5,
   "metadata": {},
   "outputs": [
    {
     "name": "stdout",
     "output_type": "stream",
     "text": [
      "(2823, 10)\n"
     ]
    }
   ],
   "source": [
    "\n",
    "\n",
    "# Get the shape of the data\n",
    "data_shape = sales_data.shape\n",
    "print(data_shape)\n"
   ]
  },
  {
   "cell_type": "code",
   "execution_count": 44,
   "metadata": {},
   "outputs": [
    {
     "name": "stdout",
     "output_type": "stream",
     "text": [
      "<class 'pandas.core.frame.DataFrame'>\n",
      "RangeIndex: 2823 entries, 0 to 2822\n",
      "Data columns (total 10 columns):\n",
      " #   Column           Non-Null Count  Dtype         \n",
      "---  ------           --------------  -----         \n",
      " 0   ORDERNUMBER      2823 non-null   int64         \n",
      " 1   QUANTITYORDERED  2823 non-null   int64         \n",
      " 2   ORDERLINENUMBER  2823 non-null   int64         \n",
      " 3   SALES            2823 non-null   float64       \n",
      " 4   ORDERDATE        2823 non-null   datetime64[ns]\n",
      " 5   STATUS           2823 non-null   object        \n",
      " 6   COUNTRY          2823 non-null   object        \n",
      " 7   DEALSIZE         2823 non-null   object        \n",
      " 8   Discount         2823 non-null   float64       \n",
      " 9   Profit           2823 non-null   float64       \n",
      "dtypes: datetime64[ns](1), float64(3), int64(3), object(3)\n",
      "memory usage: 220.7+ KB\n"
     ]
    }
   ],
   "source": [
    "df.info()"
   ]
  },
  {
   "cell_type": "code",
   "execution_count": 6,
   "metadata": {},
   "outputs": [
    {
     "name": "stdout",
     "output_type": "stream",
     "text": [
      "[0.5714917  0.14223049 0.26896469 0.84693401 0.25104351 0.16997177\n",
      " 0.20775741 0.34636676 0.3334174  0.23372378]\n"
     ]
    }
   ],
   "source": [
    "from sklearn.preprocessing import MinMaxScaler\n",
    "\n",
    "# Initialize the Min-Max Scaler\n",
    "scaler = MinMaxScaler()\n",
    "\n",
    "# Fit and transform the SALES column\n",
    "sales_scaled = scaler.fit_transform(sales_data[['SALES']])\n",
    "\n",
    "# Get the scaled values for index range 50 to 59\n",
    "scaled_values = sales_scaled[50:60].flatten()\n",
    "print(scaled_values)"
   ]
  },
  {
   "cell_type": "code",
   "execution_count": 7,
   "metadata": {},
   "outputs": [
    {
     "name": "stdout",
     "output_type": "stream",
     "text": [
      "Chi2 Statistic: 13791.635814639898\n",
      "P-value: 0.542421662324538\n",
      "Không phụ thuộc\n"
     ]
    }
   ],
   "source": [
    "from scipy.stats import chi2_contingency\n",
    "\n",
    "# Create a contingency table\n",
    "contingency_table = pd.crosstab(sales_data['STATUS'], sales_data['SALES'])\n",
    "\n",
    "# Perform the chi-square test\n",
    "chi2, p, dof, expected = chi2_contingency(contingency_table)\n",
    "\n",
    "# Print the results\n",
    "print(f\"Chi2 Statistic: {chi2}\")\n",
    "print(f\"P-value: {p}\")\n",
    "\n",
    "# Determine if there is a significant relationship\n",
    "if p < 0.05:\n",
    "    print(\"Có phụ thuộc\")\n",
    "else:\n",
    "    print(\"Không phụ thuộc\")"
   ]
  },
  {
   "cell_type": "code",
   "execution_count": 8,
   "metadata": {},
   "outputs": [
    {
     "name": "stdout",
     "output_type": "stream",
     "text": [
      "F-value: 4.41999754318253, P-value: 0.0014572297484197908\n",
      "Không phụ thuộc\n"
     ]
    }
   ],
   "source": [
    "import pandas as pd\n",
    "import scipy.stats as stats\n",
    "\n",
    "# Load the Excel file\n",
    "file_path = 'sales_data_sample.xlsx'\n",
    "sales_data = pd.read_excel(file_path, sheet_name='saledata')\n",
    "\n",
    "# Group sales data by status and calculate the mean sales per status\n",
    "status_groups = sales_data.groupby('STATUS')['SALES'].mean()\n",
    "\n",
    "# Perform an ANOVA test to see if there is a statistically significant difference between the means of the groups\n",
    "f_value, p_value = stats.f_oneway(\n",
    "    sales_data[sales_data['STATUS'] == 'Shipped']['SALES'],\n",
    "    sales_data[sales_data['STATUS'] == 'Cancelled']['SALES'],\n",
    "    sales_data[sales_data['STATUS'] == 'Resolved']['SALES'],\n",
    "    sales_data[sales_data['STATUS'] == 'On Hold']['SALES'],\n",
    "    sales_data[sales_data['STATUS'] == 'Disputed']['SALES']\n",
    ")\n",
    "\n",
    "print(f\"F-value: {f_value}, P-value: {p_value}\")\n",
    "if p < 0.05:\n",
    "    print(\"Có phụ thuộc\")\n",
    "else:\n",
    "    print(\"Không phụ thuộc\")\n"
   ]
  },
  {
   "cell_type": "code",
   "execution_count": 9,
   "metadata": {},
   "outputs": [
    {
     "name": "stdout",
     "output_type": "stream",
     "text": [
      "Kurtosis of SALES: 1.7926764690198267\n",
      "The distribution of SALES is: Platykurtic (less than normal but not negative)\n",
      "Answer: b. Platykurtic\n"
     ]
    }
   ],
   "source": [
    "# Calculate the kurtosis for the 'SALES' data\n",
    "order_kurtosis = sales_data['SALES'].kurtosis()\n",
    "\n",
    "# Print the kurtosis value\n",
    "print(f\"Kurtosis of SALES: {order_kurtosis}\")\n",
    "\n",
    "# Determine the type of kurtosis\n",
    "if order_kurtosis < 3:\n",
    "    if order_kurtosis < 0:\n",
    "        kurtosis_type = \"Platykurtic (less than normal)\"\n",
    "    else:\n",
    "        kurtosis_type = \"Platykurtic (less than normal but not negative)\"\n",
    "elif order_kurtosis == 3:\n",
    "    kurtosis_type = \"Mesokurtic (normal distribution)\"\n",
    "else:\n",
    "    kurtosis_type = \"Leptokurtic (more than normal)\"\n",
    "\n",
    "print(f\"The distribution of SALES is: {kurtosis_type}\")\n",
    "\n",
    "# Determine the answer based on the kurtosis type\n",
    "if kurtosis_type.startswith(\"Platykurtic\"):\n",
    "    answer = \"b. Platykurtic\"\n",
    "elif kurtosis_type.startswith(\"Leptokurtic\"):\n",
    "    answer = \"c. Leptokurtic\"\n",
    "elif kurtosis_type.startswith(\"Mesokurtic\"):\n",
    "    answer = \"e. Mesokurtic\"\n",
    "else:\n",
    "    answer = \"a. Không thể kết luận\"\n",
    "\n",
    "print(f\"Answer: {answer}\")"
   ]
  },
  {
   "cell_type": "code",
   "execution_count": 10,
   "metadata": {},
   "outputs": [
    {
     "name": "stdout",
     "output_type": "stream",
     "text": [
      "Kurtosis of SALES: 1.7926764690198267\n"
     ]
    }
   ],
   "source": [
    "import pandas as pd\n",
    "\n",
    "# Load the Excel file\n",
    "file_path = 'sales_data_sample.xlsx'\n",
    "sales_data = pd.read_excel(file_path, sheet_name='saledata')\n",
    "\n",
    "# Calculate the kurtosis for the 'SALES' data\n",
    "sales_kurtosis = sales_data['SALES'].kurtosis()\n",
    "\n",
    "# Print the result\n",
    "print(f\"Kurtosis of SALES: {sales_kurtosis}\")\n"
   ]
  },
  {
   "cell_type": "code",
   "execution_count": 11,
   "metadata": {},
   "outputs": [
    {
     "name": "stdout",
     "output_type": "stream",
     "text": [
      "Kurtosis of SALES: 1.7926764690198267\n",
      "The distribution of SALES is: Platykurtic (less than normal but not negative)\n"
     ]
    }
   ],
   "source": [
    "import pandas as pd\n",
    "\n",
    "# Load the Excel file\n",
    "file_path = 'sales_data_sample.xlsx'\n",
    "sales_data = pd.read_excel(file_path, sheet_name='saledata')\n",
    "\n",
    "# Calculate the kurtosis for the 'SALES' data\n",
    "sales_kurtosis = sales_data['SALES'].kurtosis()\n",
    "\n",
    "# Print the kurtosis value\n",
    "print(f\"Kurtosis of SALES: {sales_kurtosis}\")\n",
    "\n",
    "# Determine the type of kurtosis\n",
    "if sales_kurtosis < 3:\n",
    "    if sales_kurtosis < 0:\n",
    "        kurtosis_type = \"Platykurtic (less than normal)\"\n",
    "    else:\n",
    "        kurtosis_type = \"Platykurtic (less than normal but not negative)\"\n",
    "elif sales_kurtosis == 3:\n",
    "    kurtosis_type = \"Mesokurtic (normal distribution)\"\n",
    "else:\n",
    "    kurtosis_type = \"Leptokurtic (more than normal)\"\n",
    "\n",
    "print(f\"The distribution of SALES is: {kurtosis_type}\")\n"
   ]
  },
  {
   "cell_type": "code",
   "execution_count": 12,
   "metadata": {},
   "outputs": [
    {
     "name": "stdout",
     "output_type": "stream",
     "text": [
      "Original value before normalization: 4014.3553483443616\n",
      "Answer: None of the given options\n"
     ]
    }
   ],
   "source": [
    "# Calculate the mean and standard deviation of the 'SALES' column\n",
    "mean_sales = sales_data['SALES'].mean()\n",
    "std_sales = sales_data['SALES'].std()\n",
    "\n",
    "# Given Z-Score value\n",
    "z_score = 0.25\n",
    "\n",
    "# Calculate the original value before normalization\n",
    "original_value = z_score * std_sales + mean_sales\n",
    "print(f\"Original value before normalization: {original_value}\")\n",
    "\n",
    "# Determine the closest answer\n",
    "if abs(original_value - 5014.27378493) < 1e-5:\n",
    "    answer = \"a. 5014.27378493\"\n",
    "elif abs(original_value - 4014.27378493) < 1e-5:\n",
    "    answer = \"b. 4014.27378493\"\n",
    "elif abs(original_value - 4014.97378493) < 1e-5:\n",
    "    answer = \"c. 4014.97378493\"\n",
    "elif abs(original_value - 4015.27378493) < 1e-5:\n",
    "    answer = \"d. 4015.27378493\"\n",
    "elif abs(original_value - 404.27378493) < 1e-5:\n",
    "    answer = \"e. 404.27378493\"\n",
    "else:\n",
    "    answer = \"None of the given options\"\n",
    "\n",
    "print(f\"Answer: {answer}\")"
   ]
  },
  {
   "cell_type": "code",
   "execution_count": 13,
   "metadata": {},
   "outputs": [
    {
     "name": "stdout",
     "output_type": "stream",
     "text": [
      "Original SALES value before normalization: 4014.3553483443616\n"
     ]
    }
   ],
   "source": [
    "import pandas as pd\n",
    "\n",
    "# Load the Excel file\n",
    "file_path = 'sales_data_sample.xlsx'\n",
    "sales_data = pd.read_excel(file_path, sheet_name='saledata')\n",
    "\n",
    "# Calculate the mean and standard deviation of SALES\n",
    "mean_sales = sales_data['SALES'].mean()\n",
    "std_sales = sales_data['SALES'].std()\n",
    "\n",
    "# Given the Z-score value\n",
    "z_score_value = 0.25\n",
    "\n",
    "# Calculate the original value before normalization using the Z-score formula\n",
    "# Original value = Z-score * standard deviation + mean\n",
    "original_value = z_score_value * std_sales + mean_sales\n",
    "\n",
    "# Print the result\n",
    "print(f\"Original SALES value before normalization: {original_value}\")\n"
   ]
  },
  {
   "cell_type": "code",
   "execution_count": 14,
   "metadata": {},
   "outputs": [
    {
     "name": "stdout",
     "output_type": "stream",
     "text": [
      "Number of unique countries: 19\n",
      "Answer: b. 19\n"
     ]
    }
   ],
   "source": [
    "# Count the number of unique countries in the sales data\n",
    "unique_countries = sales_data['COUNTRY'].nunique()\n",
    "print(f\"Number of unique countries: {unique_countries}\")\n",
    "\n",
    "# Determine the closest answer\n",
    "if unique_countries == 20:\n",
    "    answer = \"a. 20\"\n",
    "elif unique_countries == 19:\n",
    "    answer = \"b. 19\"\n",
    "elif unique_countries == 17:\n",
    "    answer = \"c. 17\"\n",
    "elif unique_countries == 21:\n",
    "    answer = \"d. 21\"\n",
    "elif unique_countries == 18:\n",
    "    answer = \"e. 18\"\n",
    "else:\n",
    "    answer = \"None of the given options\"\n",
    "\n",
    "print(f\"Answer: {answer}\")"
   ]
  },
  {
   "cell_type": "code",
   "execution_count": 15,
   "metadata": {},
   "outputs": [
    {
     "name": "stdout",
     "output_type": "stream",
     "text": [
      "Number of unique countries that placed orders: 19\n"
     ]
    }
   ],
   "source": [
    "import pandas as pd\n",
    "\n",
    "# Load the Excel file\n",
    "file_path = 'sales_data_sample.xlsx'\n",
    "sales_data = pd.read_excel(file_path, sheet_name='saledata')\n",
    "\n",
    "# Count the number of unique countries in the dataset\n",
    "unique_countries = sales_data['COUNTRY'].nunique()\n",
    "\n",
    "# Print the result\n",
    "print(f\"Number of unique countries that placed orders: {unique_countries}\")\n"
   ]
  },
  {
   "cell_type": "code",
   "execution_count": 16,
   "metadata": {},
   "outputs": [
    {
     "data": {
      "image/png": "[encoded data removed]",
      "text/plain": [
       "<Figure size 1000x600 with 1 Axes>"
      ]
     },
     "metadata": {},
     "output_type": "display_data"
    },
    {
     "name": "stdout",
     "output_type": "stream",
     "text": [
      "DEALSIZE\n",
      "Large     8008.560\n",
      "Medium    4162.750\n",
      "Small     2113.975\n",
      "Name: SALES, dtype: float64\n",
      "Answer: a. Có\n"
     ]
    }
   ],
   "source": [
    "import seaborn as sns\n",
    "\n",
    "import matplotlib.pyplot as plt\n",
    "\n",
    "# Create a boxplot of SALES for each DEALSIZE\n",
    "plt.figure(figsize=(10, 6))\n",
    "sns.boxplot(x='DEALSIZE', y='SALES', data=sales_data)\n",
    "plt.title('Boxplot of Sales by Deal Size')\n",
    "plt.xlabel('Deal Size')\n",
    "plt.ylabel('Sales')\n",
    "plt.show()\n",
    "\n",
    "# Determine the answer based on the boxplot\n",
    "# If the medians and distributions of SALES are significantly different across DEALSIZE categories, then DEALSIZE plays a role\n",
    "deal_size_groups = sales_data.groupby('DEALSIZE')['SALES'].median()\n",
    "print(deal_size_groups)\n",
    "\n",
    "# Based on the boxplot and median values, determine the answer\n",
    "if deal_size_groups.nunique() > 1:\n",
    "    answer = \"a. Có\"\n",
    "else:\n",
    "    answer = \"b. Không\"\n",
    "\n",
    "print(f\"Answer: {answer}\")"
   ]
  },
  {
   "cell_type": "code",
   "execution_count": 17,
   "metadata": {},
   "outputs": [
    {
     "data": {
      "image/png": "[encoded data removed]",
      "text/plain": [
       "<Figure size 1000x600 with 1 Axes>"
      ]
     },
     "metadata": {},
     "output_type": "display_data"
    },
    {
     "name": "stdout",
     "output_type": "stream",
     "text": [
      "Answer: e. bar chart\n"
     ]
    }
   ],
   "source": [
    "# The appropriate chart for categorical (qualitative) variables is typically a bar chart or a pie chart.\n",
    "# Let's create a bar chart for the 'STATUS' variable in the sales_data DataFrame.\n",
    "\n",
    "import matplotlib.pyplot as plt\n",
    "\n",
    "# Count the occurrences of each status\n",
    "status_counts = sales_data['STATUS'].value_counts()\n",
    "\n",
    "# Create a bar chart\n",
    "plt.figure(figsize=(10, 6))\n",
    "status_counts.plot(kind='bar')\n",
    "plt.title('Distribution of Order Status')\n",
    "plt.xlabel('Status')\n",
    "plt.ylabel('Count')\n",
    "plt.show()\n",
    "\n",
    "# Based on the options provided, the correct answer is:\n",
    "answer = \"e. bar chart\"\n",
    "print(f\"Answer: {answer}\")"
   ]
  },
  {
   "cell_type": "code",
   "execution_count": 18,
   "metadata": {},
   "outputs": [
    {
     "name": "stdout",
     "output_type": "stream",
     "text": [
      "square: 2.915766495908139\n",
      "original: 1.161076000881289\n",
      "sqrt: 0.47281500087876144\n",
      "cbrt: 0.25086487312083416\n",
      "log: -0.2021742362869817\n",
      "Answer: a. square, chưa transform, sqrt, cube root, log\n"
     ]
    }
   ],
   "source": [
    "import numpy as np\n",
    "\n",
    "# Apply different transformations to the SALES column\n",
    "sales_log = np.log(sales_data['SALES'])\n",
    "sales_sqrt = np.sqrt(sales_data['SALES'])\n",
    "sales_square = np.square(sales_data['SALES'])\n",
    "sales_cbrt = np.cbrt(sales_data['SALES'])\n",
    "\n",
    "# Calculate the skewness for each transformed SALES column\n",
    "skew_original = sales_data['SALES'].skew()\n",
    "skew_log = sales_log.skew()\n",
    "skew_sqrt = sales_sqrt.skew()\n",
    "skew_square = sales_square.skew()\n",
    "skew_cbrt = sales_cbrt.skew()\n",
    "\n",
    "# Create a dictionary to store the skewness values\n",
    "skewness_dict = {\n",
    "    'original': skew_original,\n",
    "    'log': skew_log,\n",
    "    'sqrt': skew_sqrt,\n",
    "    'square': skew_square,\n",
    "    'cbrt': skew_cbrt\n",
    "}\n",
    "\n",
    "# Sort the dictionary by skewness values in descending order\n",
    "sorted_skewness = sorted(skewness_dict.items(), key=lambda item: item[1], reverse=True)\n",
    "\n",
    "# Print the sorted skewness values\n",
    "for transform, skewness in sorted_skewness:\n",
    "    print(f\"{transform}: {skewness}\")\n",
    "\n",
    "# Determine the correct answer based on the sorted skewness values\n",
    "answer = \"a. square, chưa transform, sqrt, cube root, log\"\n",
    "print(f\"Answer: {answer}\")"
   ]
  },
  {
   "cell_type": "code",
   "execution_count": 19,
   "metadata": {},
   "outputs": [
    {
     "name": "stdout",
     "output_type": "stream",
     "text": [
      "a.\n",
      "d\n",
      "\n",
      "b.\n",
      "g\n",
      "\n",
      "c.\n",
      "b\n",
      "\n",
      "d.\n",
      "c\n",
      "\n",
      "e.\n",
      "a\n",
      "\n",
      "f.\n",
      "f\n",
      "\n",
      "g.\n",
      "e\n",
      "\n"
     ]
    }
   ],
   "source": [
    "# Determine which chart does not display all values\n",
    "chart_answers = {\n",
    "    'a': 'd',\n",
    "    'b': 'g',\n",
    "    'c': 'b',\n",
    "    'd': 'c',\n",
    "    'e': 'a',\n",
    "    'f': 'f',\n",
    "    'g': 'e'\n",
    "}\n",
    "\n",
    "# Print the answers\n",
    "for question, answer in chart_answers.items():\n",
    "    print(f\"{question}.\\n{answer}\\n\")"
   ]
  },
  {
   "cell_type": "code",
   "execution_count": 20,
   "metadata": {},
   "outputs": [
    {
     "name": "stdout",
     "output_type": "stream",
     "text": [
      "Skewness of SALES: 1.161076000881289\n"
     ]
    }
   ],
   "source": [
    "import pandas as pd\n",
    "\n",
    "# Load the Excel file\n",
    "file_path = 'sales_data_sample.xlsx'\n",
    "sales_data = pd.read_excel(file_path, sheet_name='saledata')\n",
    "\n",
    "# Calculate the skewness of the 'SALES' column\n",
    "sales_skewness = sales_data['SALES'].skew()\n",
    "\n",
    "# Print the result\n",
    "print(f\"Skewness of SALES: {sales_skewness}\")\n"
   ]
  },
  {
   "cell_type": "code",
   "execution_count": 21,
   "metadata": {},
   "outputs": [
    {
     "name": "stdout",
     "output_type": "stream",
     "text": [
      "Skewness of SALES: 1.161076000881289\n",
      "Answer: a. 1.161076000881289\n"
     ]
    }
   ],
   "source": [
    "# Print the skewness of the 'SALES' column\n",
    "print(f\"Skewness of SALES: {skew_original}\")\n",
    "\n",
    "# Determine the correct answer based on the skewness value\n",
    "if abs(skew_original - 1.161076000881289) < 1e-5:\n",
    "    answer = \"a. 1.161076000881289\"\n",
    "elif abs(skew_original - 1.261076000881289) < 1e-5:\n",
    "    answer = \"b. 1.261076000881289\"\n",
    "elif abs(skew_original - 1.361076000881289) < 1e-5:\n",
    "    answer = \"c. 1.361076000881289\"\n",
    "elif abs(skew_original - 1.461076000881289) < 1e-5:\n",
    "    answer = \"d. 1.461076000881289\"\n",
    "elif abs(skew_original - 1.191076000881289) < 1e-5:\n",
    "    answer = \"e. 1.191076000881289\"\n",
    "else:\n",
    "    answer = \"None of the given options\"\n",
    "\n",
    "print(f\"Answer: {answer}\")"
   ]
  },
  {
   "cell_type": "code",
   "execution_count": 22,
   "metadata": {},
   "outputs": [
    {
     "name": "stdout",
     "output_type": "stream",
     "text": [
      "Answer: d. comma\n"
     ]
    }
   ],
   "source": [
    "# The delimiter used to separate data in a file can vary. Common delimiters include:\n",
    "# - Semicolon (;)\n",
    "# - Hyphen (-)\n",
    "# - Apostrophe (')\n",
    "# - Comma (,)\n",
    "# - Period (.)\n",
    "# - Colon (:)\n",
    "\n",
    "# Based on the options provided, the correct answer is:\n",
    "answer = \"d. comma\"\n",
    "print(f\"Answer: {answer}\")"
   ]
  },
  {
   "cell_type": "code",
   "execution_count": 23,
   "metadata": {},
   "outputs": [
    {
     "name": "stdout",
     "output_type": "stream",
     "text": [
      "Possible delimiters in a file could include:\n",
      "';'\n",
      "'-'\n",
      "'''\n",
      "','\n",
      "'.'\n",
      "':'\n"
     ]
    }
   ],
   "source": [
    "# List of common delimiters\n",
    "delimiters = [';', '-', \"'\", ',', '.', ':']\n",
    "\n",
    "# Print the possible delimiters used for separating data\n",
    "print(\"Possible delimiters in a file could include:\")\n",
    "for delimiter in delimiters:\n",
    "    print(f\"'{delimiter}'\")\n"
   ]
  },
  {
   "cell_type": "code",
   "execution_count": 24,
   "metadata": {},
   "outputs": [
    {
     "name": "stdout",
     "output_type": "stream",
     "text": [
      "Scaled value at index 100: -0.053543911213573936\n",
      "Answer: c. -0.053544\n"
     ]
    }
   ],
   "source": [
    "from sklearn.preprocessing import StandardScaler, MaxAbsScaler\n",
    "\n",
    "# Apply Z-Score Scaler\n",
    "z_score_scaler = StandardScaler()\n",
    "sales_z_scaled = z_score_scaler.fit_transform(sales_data[['SALES']])\n",
    "\n",
    "# Apply Max Absolute Scaler\n",
    "max_abs_scaler = MaxAbsScaler()\n",
    "sales_max_abs_scaled = max_abs_scaler.fit_transform(sales_z_scaled)\n",
    "\n",
    "# Get the scaled value for index 100\n",
    "scaled_value_index_100 = sales_max_abs_scaled[100][0]\n",
    "print(f\"Scaled value at index 100: {scaled_value_index_100}\")\n",
    "\n",
    "# Determine the closest answer\n",
    "if abs(scaled_value_index_100 - 0.053544) < 1e-5:\n",
    "    answer = \"a. 0.053544\"\n",
    "elif abs(scaled_value_index_100 + 1.053544) < 1e-5:\n",
    "    answer = \"b. -1.053544\"\n",
    "elif abs(scaled_value_index_100 + 0.053544) < 1e-5:\n",
    "    answer = \"c. -0.053544\"\n",
    "elif abs(scaled_value_index_100 - 0.153544) < 1e-5:\n",
    "    answer = \"d. 0.153544\"\n",
    "elif abs(scaled_value_index_100 - 1.053544) < 1e-5:\n",
    "    answer = \"e. 1.053544\"\n",
    "else:\n",
    "    answer = \"None of the given options\"\n",
    "\n",
    "print(f\"Answer: {answer}\")"
   ]
  },
  {
   "cell_type": "code",
   "execution_count": 25,
   "metadata": {},
   "outputs": [
    {
     "name": "stdout",
     "output_type": "stream",
     "text": [
      "Answer: a. Phân loại\n"
     ]
    }
   ],
   "source": [
    "# The variable 'DEALSIZE' represents categories of deal sizes (e.g., Small, Medium, Large).\n",
    "# This type of variable is qualitative and categorical.\n",
    "\n",
    "# Based on the options provided, the correct answer is:\n",
    "answer = \"a. Phân loại\"\n",
    "print(f\"Answer: {answer}\")"
   ]
  },
  {
   "cell_type": "code",
   "execution_count": 26,
   "metadata": {},
   "outputs": [
    {
     "name": "stdout",
     "output_type": "stream",
     "text": [
      "Skewness of SALES after log transformation: -0.2021742362869817\n",
      "Answer: b. Lệch ngược chiều với ban đầu\n"
     ]
    }
   ],
   "source": [
    "# Print the skewness of the 'SALES' column after log transformation\n",
    "print(f\"Skewness of SALES after log transformation: {skew_log}\")\n",
    "\n",
    "# Determine the correct answer based on the skewness value\n",
    "if skew_log > skew_original:\n",
    "    answer = \"a. Lệch nhiều hơn ban đầu\"\n",
    "elif skew_log < 0 and skew_original > 0:\n",
    "    answer = \"b. Lệch ngược chiều với ban đầu\"\n",
    "elif skew_log > 0 and skew_original > 0:\n",
    "    answer = \"c. Lệch cùng chiều với ban đầu\"\n",
    "elif abs(skew_log) < abs(skew_original):\n",
    "    answer = \"d. Lệch ít hơn ban đầu\"\n",
    "elif skew_log == skew_original:\n",
    "    answer = \"e. Lệch bằng với ban đầu\"\n",
    "else:\n",
    "    answer = \"f. Không lệch, tức độ lệch = 0\"\n",
    "\n",
    "print(f\"Answer: {answer}\")"
   ]
  },
  {
   "cell_type": "code",
   "execution_count": 28,
   "metadata": {},
   "outputs": [
    {
     "name": "stdout",
     "output_type": "stream",
     "text": [
      "Original skewness of SALES: 1.161076000881289\n",
      "Skewness of SALES after log transformation: -0.20161257194731758\n",
      "The skewness changed direction (negative after log transformation).\n"
     ]
    }
   ],
   "source": [
    "import pandas as pd\n",
    "import numpy as np\n",
    "\n",
    "# Load the Excel file\n",
    "file_path = 'sales_data_sample.xlsx'\n",
    "sales_data = pd.read_excel(file_path, sheet_name='saledata')\n",
    "\n",
    "# Calculate the skewness of SALES after log transformation\n",
    "sales_log = np.log(sales_data['SALES'] + 1)  # Adding 1 to avoid log(0)\n",
    "skew_log = sales_log.skew()\n",
    "\n",
    "# Calculate the original skewness for comparison\n",
    "skew_original = sales_data['SALES'].skew()\n",
    "\n",
    "# Print the results\n",
    "print(f\"Original skewness of SALES: {skew_original}\")\n",
    "print(f\"Skewness of SALES after log transformation: {skew_log}\")\n",
    "\n",
    "# Determine the direction of the skewness change\n",
    "if skew_log < 0 and skew_original > 0:\n",
    "    print(\"The skewness changed direction (negative after log transformation).\")\n",
    "elif skew_log > 0 and skew_original > 0:\n",
    "    print(\"The skewness is still positive after log transformation.\")\n",
    "elif skew_log == 0:\n",
    "    print(\"The skewness is now zero after log transformation.\")\n",
    "else:\n",
    "    print(\"The skewness has decreased but remained in the same direction.\")\n"
   ]
  },
  {
   "cell_type": "code",
   "execution_count": 29,
   "metadata": {},
   "outputs": [
    {
     "name": "stdout",
     "output_type": "stream",
     "text": [
      "Scaled value of 10000: 3.499773630545118\n",
      "Answer: None of the given options\n"
     ]
    }
   ],
   "source": [
    "# Given value\n",
    "value_to_scale = 10000\n",
    "\n",
    "# Calculate the Z-score\n",
    "scaled_value = (value_to_scale - mean_sales) / std_sales\n",
    "print(f\"Scaled value of 10000: {scaled_value}\")\n",
    "\n",
    "# Determine the closest answer\n",
    "if abs(scaled_value - 3.50039366) < 1e-5:\n",
    "    answer = \"a. 3.50039366\"\n",
    "elif abs(scaled_value - 6.50039366) < 1e-5:\n",
    "    answer = \"b. 6.50039366\"\n",
    "elif abs(scaled_value - 1.50039366) < 1e-5:\n",
    "    answer = \"c. 1.50039366\"\n",
    "elif abs(scaled_value - 3.90039366) < 1e-5:\n",
    "    answer = \"d. 3.90039366\"\n",
    "elif abs(scaled_value - 4.50039366) < 1e-5:\n",
    "    answer = \"e. 4.50039366\"\n",
    "else:\n",
    "    answer = \"None of the given options\"\n",
    "\n",
    "print(f\"Answer: {answer}\")"
   ]
  },
  {
   "cell_type": "code",
   "execution_count": 30,
   "metadata": {},
   "outputs": [
    {
     "name": "stdout",
     "output_type": "stream",
     "text": [
      "The Z-Score scaled value of 10000 is: 3.499773630545118\n"
     ]
    }
   ],
   "source": [
    "import pandas as pd\n",
    "\n",
    "# Load the Excel file\n",
    "file_path = 'sales_data_sample.xlsx'\n",
    "sales_data = pd.read_excel(file_path, sheet_name='saledata')\n",
    "\n",
    "# Calculate the mean and standard deviation of SALES\n",
    "mean_sales = sales_data['SALES'].mean()\n",
    "std_sales = sales_data['SALES'].std()\n",
    "\n",
    "# Apply Z-Score transformation for the value 10000\n",
    "z_score_value = (10000 - mean_sales) / std_sales\n",
    "\n",
    "# Print the result\n",
    "print(f\"The Z-Score scaled value of 10000 is: {z_score_value}\")\n"
   ]
  },
  {
   "cell_type": "code",
   "execution_count": 31,
   "metadata": {},
   "outputs": [
    {
     "name": "stdout",
     "output_type": "stream",
     "text": [
      "DEALSIZE\n",
      "Small      577.183322\n",
      "Medium    1047.090148\n",
      "Large     1294.739895\n",
      "Name: SALES, dtype: float64\n",
      "Order of stability: ['Small', 'Medium', 'Large']\n",
      "Answer: a. Small, Medium, Large\n"
     ]
    }
   ],
   "source": [
    "# Calculate the standard deviation of SALES for each DEALSIZE group\n",
    "deal_size_std = sales_data.groupby('DEALSIZE')['SALES'].std()\n",
    "\n",
    "# Sort the DEALSIZE groups by their standard deviation in ascending order\n",
    "sorted_deal_size_std = deal_size_std.sort_values()\n",
    "\n",
    "# Print the sorted standard deviations\n",
    "print(sorted_deal_size_std)\n",
    "\n",
    "# Determine the order of stability (lower standard deviation means more stable)\n",
    "order_of_stability = sorted_deal_size_std.index.tolist()\n",
    "print(f\"Order of stability: {order_of_stability}\")\n",
    "\n",
    "# Determine the correct answer based on the sorted order\n",
    "if order_of_stability == ['Small', 'Medium', 'Large']:\n",
    "    answer = \"a. Small, Medium, Large\"\n",
    "elif order_of_stability == ['Medium', 'Small', 'Large']:\n",
    "    answer = \"b. Medium, Small, Large\"\n",
    "elif order_of_stability == ['Small', 'Large', 'Medium']:\n",
    "    answer = \"c. Small, Large, Medium\"\n",
    "elif order_of_stability == ['Large', 'Small', 'Medium']:\n",
    "    answer = \"d. Large, Small, Medium\"\n",
    "elif order_of_stability == ['Large', 'Medium', 'Small']:\n",
    "    answer = \"e. Large, Medium, Small\"\n",
    "else:\n",
    "    answer = \"None of the given options\"\n",
    "\n",
    "print(f\"Answer: {answer}\")"
   ]
  },
  {
   "cell_type": "code",
   "execution_count": 32,
   "metadata": {},
   "outputs": [
    {
     "data": {
      "image/png": "[encoded data removed]",
      "text/plain": [
       "<Figure size 800x600 with 1 Axes>"
      ]
     },
     "metadata": {},
     "output_type": "display_data"
    }
   ],
   "source": [
    "import pandas as pd\n",
    "import matplotlib.pyplot as plt\n",
    "import seaborn as sns\n",
    "\n",
    "# Load the data from the Excel file\n",
    "file_path = 'sales_data_sample.xlsx'\n",
    "sales_data = pd.read_excel(file_path)\n",
    "\n",
    "# Create the bar plot for DEALSIZE by STATUS\n",
    "plt.figure(figsize=(8, 6))\n",
    "sns.countplot(x='STATUS', hue='DEALSIZE', data=sales_data, palette='Set2')\n",
    "\n",
    "# Modify the legend to match the colors and labels\n",
    "plt.legend(title='DEALSIZE', loc='upper left', labels=['Small', 'Medium', 'Large'])\n",
    "\n",
    "# Show the plot\n",
    "plt.show()\n"
   ]
  },
  {
   "cell_type": "code",
   "execution_count": 34,
   "metadata": {},
   "outputs": [
    {
     "data": {
      "image/png": "[encoded data removed]",
      "text/plain": [
       "<Figure size 800x600 with 1 Axes>"
      ]
     },
     "metadata": {},
     "output_type": "display_data"
    },
    {
     "name": "stdout",
     "output_type": "stream",
     "text": [
      "The STATUS with exactly two DEALSIZE categories is: ['Cancelled']\n",
      "Correct answer is: d\n"
     ]
    }
   ],
   "source": [
    "import pandas as pd\n",
    "import matplotlib.pyplot as plt\n",
    "import seaborn as sns\n",
    "\n",
    "# Load the data from the Excel file\n",
    "file_path = 'sales_data_sample.xlsx'\n",
    "sales_data = pd.read_excel(file_path)\n",
    "\n",
    "# Create the bar plot for DEALSIZE by STATUS\n",
    "plt.figure(figsize=(8, 6))\n",
    "sns.countplot(x='STATUS', hue='DEALSIZE', data=sales_data, palette='Set2')\n",
    "\n",
    "# Modify the legend to match the colors and labels\n",
    "plt.legend(title='DEALSIZE', loc='upper left', labels=['Small', 'Medium', 'Large'])\n",
    "\n",
    "# Show the plot\n",
    "plt.show()\n",
    "\n",
    "# Function to determine the STATUS with exactly 2 columns\n",
    "def find_status_with_two_columns(data):\n",
    "    status_counts = data.groupby(['STATUS', 'DEALSIZE']).size().unstack().fillna(0)\n",
    "    status_with_two_dealsize = status_counts.apply(lambda x: len(x[x > 0]), axis=1)\n",
    "    return status_with_two_dealsize[status_with_two_dealsize == 2].index.tolist()\n",
    "\n",
    "# Find the status with exactly two DEALSIZE categories\n",
    "status_with_two_columns = find_status_with_two_columns(sales_data)\n",
    "\n",
    "# Print the status that matches the condition\n",
    "print(\"The STATUS with exactly two DEALSIZE categories is:\", status_with_two_columns)\n",
    "\n",
    "# Providing the answer options based on the provided image\n",
    "options = {\n",
    "    'a': 'In process',\n",
    "    'b': 'Disputed',\n",
    "    'c': 'Shipped',\n",
    "    'd': 'Cancelled',\n",
    "    'e': 'On hold',\n",
    "    'f': 'Resolved'\n",
    "}\n",
    "\n",
    "# Find the correct option\n",
    "for key, value in options.items():\n",
    "    if value in status_with_two_columns:\n",
    "        correct_option = key\n",
    "        break\n",
    "\n",
    "print(\"Correct answer is:\", correct_option)\n"
   ]
  },
  {
   "cell_type": "code",
   "execution_count": 35,
   "metadata": {},
   "outputs": [
    {
     "name": "stdout",
     "output_type": "stream",
     "text": [
      "Answer: c. Không có mối liên hệ\n"
     ]
    }
   ],
   "source": [
    "# Determine if there is a significant relationship based on the p-value\n",
    "if p < 0.05:\n",
    "    answer = \"b. Có mối liên hệ\"\n",
    "else:\n",
    "    answer = \"c. Không  ó mối liên hệ\"\n",
    "\n",
    "print(f\"Answer: {answer}\")"
   ]
  },
  {
   "cell_type": "code",
   "execution_count": 36,
   "metadata": {},
   "outputs": [
    {
     "name": "stdout",
     "output_type": "stream",
     "text": [
      "Chi-square statistic: 34.344354882679596\n",
      "P-value: 0.0001614574648411617\n",
      "There is a statistically significant relationship between STATUS and DEALSIZE.\n",
      "Conclusion: b. Có mối liên hệ\n"
     ]
    }
   ],
   "source": [
    "import pandas as pd\n",
    "import scipy.stats as stats\n",
    "\n",
    "# Load the Excel file\n",
    "file_path = 'sales_data_sample.xlsx'\n",
    "sales_data = pd.read_excel(file_path)\n",
    "\n",
    "# Create a contingency table for STATUS and DEALSIZE\n",
    "contingency_table = pd.crosstab(sales_data['STATUS'], sales_data['DEALSIZE'])\n",
    "\n",
    "# Perform the Chi-square test to determine if there's a relationship between STATUS and DEALSIZE\n",
    "chi2, p_value, dof, expected = stats.chi2_contingency(contingency_table)\n",
    "\n",
    "# Print the results\n",
    "print(f\"Chi-square statistic: {chi2}\")\n",
    "print(f\"P-value: {p_value}\")\n",
    "\n",
    "# Determine the relationship based on the p-value\n",
    "if p_value < 0.05:\n",
    "    print(\"There is a statistically significant relationship between STATUS and DEALSIZE.\")\n",
    "    conclusion = \"b. Có mối liên hệ\"\n",
    "else:\n",
    "    print(\"There is no statistically significant relationship between STATUS and DEALSIZE.\")\n",
    "    conclusion = \"c. Không có mối liên hệ\"\n",
    "\n",
    "print(\"Conclusion:\", conclusion)\n"
   ]
  },
  {
   "cell_type": "code",
   "execution_count": 38,
   "metadata": {},
   "outputs": [
    {
     "name": "stdout",
     "output_type": "stream",
     "text": [
      "Answer: None of the given options\n"
     ]
    }
   ],
   "source": [
    "# The fifth highest country by sales is already calculated and stored in the variable `fifth_highest_country`.\n",
    "# We can use this variable to determine the correct answer.\n",
    "\n",
    "# Determine the correct answer based on the fifth highest country\n",
    "if fifth_highest_country == 'USA':\n",
    "    answer = \"a. USA\"\n",
    "elif fifth_highest_country == 'Australia':\n",
    "    answer = \"b. Australia\"\n",
    "elif fifth_highest_country == 'Finland':\n",
    "    answer = \"c. Finland\"\n",
    "elif fifth_highest_country == 'Italy':\n",
    "    answer = \"d. Italy\"\n",
    "elif fifth_highest_country == 'France':\n",
    "    answer = \"e. France\"\n",
    "else:\n",
    "    answer = \"None of the given options\"\n",
    "\n",
    "print(f\"Answer: {answer}\")"
   ]
  },
  {
   "cell_type": "code",
   "execution_count": 42,
   "metadata": {},
   "outputs": [
    {
     "name": "stdout",
     "output_type": "stream",
     "text": [
      "The country with the 5th highest sales is: UK\n"
     ]
    }
   ],
   "source": [
    "import pandas as pd\n",
    "\n",
    "# Load the Excel file\n",
    "file_path = 'sales_data_sample.xlsx'\n",
    "sales_data = pd.read_excel(file_path)\n",
    "\n",
    "# Group the data by 'COUNTRY' and sum the 'SALES'\n",
    "country_sales = sales_data.groupby('COUNTRY')['Profit'].sum().sort_values(ascending=False)\n",
    "\n",
    "# Find the country with the 5th highest sales\n",
    "fifth_highest_country = country_sales.index[4]\n",
    "\n",
    "# Print the result\n",
    "print(f\"The country with the 5th highest sales is: {fifth_highest_country}\")\n"
   ]
  },
  {
   "cell_type": "code",
   "execution_count": 43,
   "metadata": {},
   "outputs": [
    {
     "name": "stdout",
     "output_type": "stream",
     "text": [
      "Độ lệch ban đầu của SALES: 1.161076000881289\n",
      "Độ lệch của SALES sau khi biến đổi log: -0.20161257194731758\n",
      "Độ lệch đã thay đổi hướng (âm sau khi biến đổi log).\n"
     ]
    }
   ],
   "source": [
    "import pandas as pd\n",
    "import numpy as np\n",
    "\n",
    "# Tải tệp Excel\n",
    "file_path = 'sales_data_sample.xlsx'\n",
    "sales_data = pd.read_excel(file_path, sheet_name='saledata')\n",
    "\n",
    "# Tính toán độ lệch của SALES sau khi biến đổi log\n",
    "sales_log = np.log(sales_data['SALES'] + 1)  # Thêm 1 để tránh log(0)\n",
    "skew_log = sales_log.skew()\n",
    "\n",
    "# Tính toán độ lệch ban đầu để so sánh\n",
    "skew_original = sales_data['SALES'].skew()\n",
    "\n",
    "# In kết quả\n",
    "print(f\"Độ lệch ban đầu của SALES: {skew_original}\")\n",
    "print(f\"Độ lệch của SALES sau khi biến đổi log: {skew_log}\")\n",
    "\n",
    "# Xác định hướng thay đổi của độ lệch\n",
    "if skew_log < 0 and skew_original > 0:\n",
    "    print(\"Độ lệch đã thay đổi hướng (âm sau khi biến đổi log).\")\n",
    "elif skew_log > 0 and skew_original > 0:\n",
    "    print(\"Độ lệch vẫn dương sau khi biến đổi log.\")\n",
    "elif skew_log == 0:\n",
    "    print(\"Độ lệch hiện tại bằng 0 sau khi biến đổi log.\")\n",
    "else:\n",
    "    print(\"Độ lệch đã giảm nhưng vẫn giữ nguyên hướng.\")\n"
   ]
  },
  {
   "cell_type": "code",
   "execution_count": null,
   "metadata": {},
   "outputs": [],
   "source": []
  }
 ],
 "metadata": {
  "kernelspec": {
   "display_name": "Python 3",
   "language": "python",
   "name": "python3"
  },
  "language_info": {
   "codemirror_mode": {
    "name": "ipython",
    "version": 3
   },
   "file_extension": ".py",
   "mimetype": "text/x-python",
   "name": "python",
   "nbconvert_exporter": "python",
   "pygments_lexer": "ipython3",
   "version": "3.12.5"
  }
 },
 "nbformat": 4,
 "nbformat_minor": 2
}
