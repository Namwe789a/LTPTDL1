{
 "cells": [
  {
   "cell_type": "markdown",
   "metadata": {},
   "source": [
    "<span style=\"color:red; font-size:20px;\">Câu 1</span>"
   ]
  },
  {
   "cell_type": "code",
   "execution_count": 2,
   "metadata": {},
   "outputs": [
    {
     "data": {
      "text/html": [
       "<div>\n",
       "<style scoped>\n",
       "    .dataframe tbody tr th:only-of-type {\n",
       "        vertical-align: middle;\n",
       "    }\n",
       "\n",
       "    .dataframe tbody tr th {\n",
       "        vertical-align: top;\n",
       "    }\n",
       "\n",
       "    .dataframe thead th {\n",
       "        text-align: right;\n",
       "    }\n",
       "</style>\n",
       "<table border=\"1\" class=\"dataframe\">\n",
       "  <thead>\n",
       "    <tr style=\"text-align: right;\">\n",
       "      <th></th>\n",
       "      <th>outgoing_mins_per_month</th>\n",
       "      <th>outgoing_sms_per_month</th>\n",
       "      <th>monthly_mb</th>\n",
       "      <th>use_id</th>\n",
       "    </tr>\n",
       "  </thead>\n",
       "  <tbody>\n",
       "    <tr>\n",
       "      <th>0</th>\n",
       "      <td>21.97</td>\n",
       "      <td>4.82</td>\n",
       "      <td>1557.33</td>\n",
       "      <td>22787</td>\n",
       "    </tr>\n",
       "    <tr>\n",
       "      <th>1</th>\n",
       "      <td>1710.08</td>\n",
       "      <td>136.88</td>\n",
       "      <td>7267.55</td>\n",
       "      <td>22788</td>\n",
       "    </tr>\n",
       "    <tr>\n",
       "      <th>2</th>\n",
       "      <td>1710.08</td>\n",
       "      <td>136.88</td>\n",
       "      <td>7267.55</td>\n",
       "      <td>22789</td>\n",
       "    </tr>\n",
       "    <tr>\n",
       "      <th>3</th>\n",
       "      <td>94.46</td>\n",
       "      <td>35.17</td>\n",
       "      <td>519.12</td>\n",
       "      <td>22790</td>\n",
       "    </tr>\n",
       "    <tr>\n",
       "      <th>4</th>\n",
       "      <td>71.59</td>\n",
       "      <td>79.26</td>\n",
       "      <td>1557.33</td>\n",
       "      <td>22792</td>\n",
       "    </tr>\n",
       "    <tr>\n",
       "      <th>...</th>\n",
       "      <td>...</td>\n",
       "      <td>...</td>\n",
       "      <td>...</td>\n",
       "      <td>...</td>\n",
       "    </tr>\n",
       "    <tr>\n",
       "      <th>235</th>\n",
       "      <td>260.66</td>\n",
       "      <td>68.44</td>\n",
       "      <td>896.96</td>\n",
       "      <td>25008</td>\n",
       "    </tr>\n",
       "    <tr>\n",
       "      <th>236</th>\n",
       "      <td>97.12</td>\n",
       "      <td>36.50</td>\n",
       "      <td>2815.00</td>\n",
       "      <td>25040</td>\n",
       "    </tr>\n",
       "    <tr>\n",
       "      <th>237</th>\n",
       "      <td>355.93</td>\n",
       "      <td>12.37</td>\n",
       "      <td>6828.09</td>\n",
       "      <td>25046</td>\n",
       "    </tr>\n",
       "    <tr>\n",
       "      <th>238</th>\n",
       "      <td>632.06</td>\n",
       "      <td>120.46</td>\n",
       "      <td>1453.16</td>\n",
       "      <td>25058</td>\n",
       "    </tr>\n",
       "    <tr>\n",
       "      <th>239</th>\n",
       "      <td>488.70</td>\n",
       "      <td>906.92</td>\n",
       "      <td>3089.85</td>\n",
       "      <td>25220</td>\n",
       "    </tr>\n",
       "  </tbody>\n",
       "</table>\n",
       "<p>240 rows × 4 columns</p>\n",
       "</div>"
      ],
      "text/plain": [
       "     outgoing_mins_per_month  outgoing_sms_per_month  monthly_mb  use_id\n",
       "0                      21.97                    4.82     1557.33   22787\n",
       "1                    1710.08                  136.88     7267.55   22788\n",
       "2                    1710.08                  136.88     7267.55   22789\n",
       "3                      94.46                   35.17      519.12   22790\n",
       "4                      71.59                   79.26     1557.33   22792\n",
       "..                       ...                     ...         ...     ...\n",
       "235                   260.66                   68.44      896.96   25008\n",
       "236                    97.12                   36.50     2815.00   25040\n",
       "237                   355.93                   12.37     6828.09   25046\n",
       "238                   632.06                  120.46     1453.16   25058\n",
       "239                   488.70                  906.92     3089.85   25220\n",
       "\n",
       "[240 rows x 4 columns]"
      ]
     },
     "execution_count": 2,
     "metadata": {},
     "output_type": "execute_result"
    }
   ],
   "source": [
    "import pandas as pd\n",
    "import numpy as np\n",
    "import seaborn as sns\n",
    "import matplotlib.pyplot as plt\n",
    "df = pd.read_csv('nguoidung_sudung.csv',header=0,delimiter=',',encoding='utf-8')\n",
    "df"
   ]
  },
  {
   "cell_type": "code",
   "execution_count": 3,
   "metadata": {},
   "outputs": [
    {
     "data": {
      "text/html": [
       "<div>\n",
       "<style scoped>\n",
       "    .dataframe tbody tr th:only-of-type {\n",
       "        vertical-align: middle;\n",
       "    }\n",
       "\n",
       "    .dataframe tbody tr th {\n",
       "        vertical-align: top;\n",
       "    }\n",
       "\n",
       "    .dataframe thead th {\n",
       "        text-align: right;\n",
       "    }\n",
       "</style>\n",
       "<table border=\"1\" class=\"dataframe\">\n",
       "  <thead>\n",
       "    <tr style=\"text-align: right;\">\n",
       "      <th></th>\n",
       "      <th>use_id</th>\n",
       "      <th>user_id</th>\n",
       "      <th>platform</th>\n",
       "      <th>platform_version</th>\n",
       "      <th>device</th>\n",
       "      <th>use_type_id</th>\n",
       "    </tr>\n",
       "  </thead>\n",
       "  <tbody>\n",
       "    <tr>\n",
       "      <th>0</th>\n",
       "      <td>22782</td>\n",
       "      <td>26980</td>\n",
       "      <td>ios</td>\n",
       "      <td>10.2</td>\n",
       "      <td>iPhone7,2</td>\n",
       "      <td>2</td>\n",
       "    </tr>\n",
       "    <tr>\n",
       "      <th>1</th>\n",
       "      <td>22783</td>\n",
       "      <td>29628</td>\n",
       "      <td>android</td>\n",
       "      <td>6.0</td>\n",
       "      <td>Nexus 5</td>\n",
       "      <td>3</td>\n",
       "    </tr>\n",
       "    <tr>\n",
       "      <th>2</th>\n",
       "      <td>22784</td>\n",
       "      <td>28473</td>\n",
       "      <td>android</td>\n",
       "      <td>5.1</td>\n",
       "      <td>SM-G903F</td>\n",
       "      <td>1</td>\n",
       "    </tr>\n",
       "    <tr>\n",
       "      <th>3</th>\n",
       "      <td>22785</td>\n",
       "      <td>15200</td>\n",
       "      <td>ios</td>\n",
       "      <td>10.2</td>\n",
       "      <td>iPhone7,2</td>\n",
       "      <td>3</td>\n",
       "    </tr>\n",
       "    <tr>\n",
       "      <th>4</th>\n",
       "      <td>22786</td>\n",
       "      <td>28239</td>\n",
       "      <td>android</td>\n",
       "      <td>6.0</td>\n",
       "      <td>ONE E1003</td>\n",
       "      <td>1</td>\n",
       "    </tr>\n",
       "    <tr>\n",
       "      <th>...</th>\n",
       "      <td>...</td>\n",
       "      <td>...</td>\n",
       "      <td>...</td>\n",
       "      <td>...</td>\n",
       "      <td>...</td>\n",
       "      <td>...</td>\n",
       "    </tr>\n",
       "    <tr>\n",
       "      <th>267</th>\n",
       "      <td>23049</td>\n",
       "      <td>29725</td>\n",
       "      <td>android</td>\n",
       "      <td>6.0</td>\n",
       "      <td>SM-G900F</td>\n",
       "      <td>1</td>\n",
       "    </tr>\n",
       "    <tr>\n",
       "      <th>268</th>\n",
       "      <td>23050</td>\n",
       "      <td>29726</td>\n",
       "      <td>ios</td>\n",
       "      <td>10.2</td>\n",
       "      <td>iPhone7,2</td>\n",
       "      <td>3</td>\n",
       "    </tr>\n",
       "    <tr>\n",
       "      <th>269</th>\n",
       "      <td>23051</td>\n",
       "      <td>29726</td>\n",
       "      <td>ios</td>\n",
       "      <td>10.2</td>\n",
       "      <td>iPhone7,2</td>\n",
       "      <td>3</td>\n",
       "    </tr>\n",
       "    <tr>\n",
       "      <th>270</th>\n",
       "      <td>23052</td>\n",
       "      <td>29727</td>\n",
       "      <td>ios</td>\n",
       "      <td>10.1</td>\n",
       "      <td>iPhone8,4</td>\n",
       "      <td>3</td>\n",
       "    </tr>\n",
       "    <tr>\n",
       "      <th>271</th>\n",
       "      <td>23053</td>\n",
       "      <td>20257</td>\n",
       "      <td>android</td>\n",
       "      <td>5.1</td>\n",
       "      <td>Vodafone Smart ultra 6</td>\n",
       "      <td>1</td>\n",
       "    </tr>\n",
       "  </tbody>\n",
       "</table>\n",
       "<p>272 rows × 6 columns</p>\n",
       "</div>"
      ],
      "text/plain": [
       "     use_id  user_id platform  platform_version                  device  \\\n",
       "0     22782    26980      ios              10.2               iPhone7,2   \n",
       "1     22783    29628  android               6.0                 Nexus 5   \n",
       "2     22784    28473  android               5.1                SM-G903F   \n",
       "3     22785    15200      ios              10.2               iPhone7,2   \n",
       "4     22786    28239  android               6.0               ONE E1003   \n",
       "..      ...      ...      ...               ...                     ...   \n",
       "267   23049    29725  android               6.0                SM-G900F   \n",
       "268   23050    29726      ios              10.2               iPhone7,2   \n",
       "269   23051    29726      ios              10.2               iPhone7,2   \n",
       "270   23052    29727      ios              10.1               iPhone8,4   \n",
       "271   23053    20257  android               5.1  Vodafone Smart ultra 6   \n",
       "\n",
       "     use_type_id  \n",
       "0              2  \n",
       "1              3  \n",
       "2              1  \n",
       "3              3  \n",
       "4              1  \n",
       "..           ...  \n",
       "267            1  \n",
       "268            3  \n",
       "269            3  \n",
       "270            3  \n",
       "271            1  \n",
       "\n",
       "[272 rows x 6 columns]"
      ]
     },
     "execution_count": 3,
     "metadata": {},
     "output_type": "execute_result"
    }
   ],
   "source": [
    "df = pd.read_csv('nguoidung_thietbi.csv',header=0,delimiter=',',encoding='utf-8')\n",
    "df"
   ]
  },
  {
   "cell_type": "code",
   "execution_count": 4,
   "metadata": {},
   "outputs": [
    {
     "data": {
      "text/html": [
       "<div>\n",
       "<style scoped>\n",
       "    .dataframe tbody tr th:only-of-type {\n",
       "        vertical-align: middle;\n",
       "    }\n",
       "\n",
       "    .dataframe tbody tr th {\n",
       "        vertical-align: top;\n",
       "    }\n",
       "\n",
       "    .dataframe thead th {\n",
       "        text-align: right;\n",
       "    }\n",
       "</style>\n",
       "<table border=\"1\" class=\"dataframe\">\n",
       "  <thead>\n",
       "    <tr style=\"text-align: right;\">\n",
       "      <th></th>\n",
       "      <th>Retail Branding</th>\n",
       "      <th>Marketing Name</th>\n",
       "      <th>Device</th>\n",
       "      <th>Model</th>\n",
       "    </tr>\n",
       "  </thead>\n",
       "  <tbody>\n",
       "    <tr>\n",
       "      <th>0</th>\n",
       "      <td>NaN</td>\n",
       "      <td>NaN</td>\n",
       "      <td>AD681H</td>\n",
       "      <td>Smartfren Andromax AD681H</td>\n",
       "    </tr>\n",
       "    <tr>\n",
       "      <th>1</th>\n",
       "      <td>NaN</td>\n",
       "      <td>NaN</td>\n",
       "      <td>FJL21</td>\n",
       "      <td>FJL21</td>\n",
       "    </tr>\n",
       "    <tr>\n",
       "      <th>2</th>\n",
       "      <td>NaN</td>\n",
       "      <td>NaN</td>\n",
       "      <td>T31</td>\n",
       "      <td>Panasonic T31</td>\n",
       "    </tr>\n",
       "    <tr>\n",
       "      <th>3</th>\n",
       "      <td>NaN</td>\n",
       "      <td>NaN</td>\n",
       "      <td>hws7721g</td>\n",
       "      <td>MediaPad 7 Youth 2</td>\n",
       "    </tr>\n",
       "    <tr>\n",
       "      <th>4</th>\n",
       "      <td>3Q</td>\n",
       "      <td>OC1020A</td>\n",
       "      <td>OC1020A</td>\n",
       "      <td>OC1020A</td>\n",
       "    </tr>\n",
       "    <tr>\n",
       "      <th>...</th>\n",
       "      <td>...</td>\n",
       "      <td>...</td>\n",
       "      <td>...</td>\n",
       "      <td>...</td>\n",
       "    </tr>\n",
       "    <tr>\n",
       "      <th>14541</th>\n",
       "      <td>pendo</td>\n",
       "      <td>PNDPP44QC10</td>\n",
       "      <td>PNDPP44QC10</td>\n",
       "      <td>PNDPP44QC10</td>\n",
       "    </tr>\n",
       "    <tr>\n",
       "      <th>14542</th>\n",
       "      <td>pendo</td>\n",
       "      <td>PNDPP44QC7</td>\n",
       "      <td>PNDPP44QC7</td>\n",
       "      <td>PNDPP44QC7</td>\n",
       "    </tr>\n",
       "    <tr>\n",
       "      <th>14543</th>\n",
       "      <td>sugar_aums</td>\n",
       "      <td>QPOINT</td>\n",
       "      <td>QPI-1</td>\n",
       "      <td>QPI-1</td>\n",
       "    </tr>\n",
       "    <tr>\n",
       "      <th>14544</th>\n",
       "      <td>tecmobile</td>\n",
       "      <td>OmnisOne</td>\n",
       "      <td>OmnisOne</td>\n",
       "      <td>Omnis One</td>\n",
       "    </tr>\n",
       "    <tr>\n",
       "      <th>14545</th>\n",
       "      <td>ucall</td>\n",
       "      <td>EASY1</td>\n",
       "      <td>EASY1</td>\n",
       "      <td>EASY1</td>\n",
       "    </tr>\n",
       "  </tbody>\n",
       "</table>\n",
       "<p>14546 rows × 4 columns</p>\n",
       "</div>"
      ],
      "text/plain": [
       "      Retail Branding Marketing Name       Device                      Model\n",
       "0                 NaN            NaN       AD681H  Smartfren Andromax AD681H\n",
       "1                 NaN            NaN        FJL21                      FJL21\n",
       "2                 NaN            NaN          T31              Panasonic T31\n",
       "3                 NaN            NaN     hws7721g         MediaPad 7 Youth 2\n",
       "4                  3Q        OC1020A      OC1020A                    OC1020A\n",
       "...               ...            ...          ...                        ...\n",
       "14541           pendo    PNDPP44QC10  PNDPP44QC10                PNDPP44QC10\n",
       "14542           pendo     PNDPP44QC7   PNDPP44QC7                 PNDPP44QC7\n",
       "14543      sugar_aums         QPOINT        QPI-1                      QPI-1\n",
       "14544       tecmobile       OmnisOne     OmnisOne                  Omnis One\n",
       "14545           ucall          EASY1        EASY1                      EASY1\n",
       "\n",
       "[14546 rows x 4 columns]"
      ]
     },
     "execution_count": 4,
     "metadata": {},
     "output_type": "execute_result"
    }
   ],
   "source": [
    "df = pd.read_csv('thietbi.csv',header=0,delimiter=',',encoding='utf-8')\n",
    "df"
   ]
  },
  {
   "cell_type": "code",
   "execution_count": 5,
   "metadata": {},
   "outputs": [],
   "source": [
    "thietbi = pd.read_csv('thietbi.csv')\n",
    "nguoidung_thietbi = pd.read_csv('nguoidung_thietbi.csv')\n",
    "nguoidung_sudung = pd.read_csv('nguoidung_sudung.csv')"
   ]
  },
  {
   "cell_type": "code",
   "execution_count": 6,
   "metadata": {},
   "outputs": [
    {
     "data": {
      "image/png": "[encoded data removed]",
      "text/plain": [
       "<Figure size 1000x600 with 1 Axes>"
      ]
     },
     "metadata": {},
     "output_type": "display_data"
    }
   ],
   "source": [
    "import matplotlib.pyplot as plt\n",
    "\n",
    "# Create the figure\n",
    "fig, ax = plt.subplots(figsize=(10, 6))\n",
    "\n",
    "# Draw the entities as boxes (rectangles)\n",
    "device_box = plt.Rectangle((0.1, 0.7), 0.3, 0.15, fc='lightblue', edgecolor='black', lw=2)\n",
    "user_device_box = plt.Rectangle((0.5, 0.7), 0.3, 0.15, fc='lightgreen', edgecolor='black', lw=2)\n",
    "user_usage_box = plt.Rectangle((0.5, 0.4), 0.3, 0.15, fc='lightcoral', edgecolor='black', lw=2)\n",
    "\n",
    "# Add the boxes to the plot\n",
    "ax.add_patch(device_box)\n",
    "ax.add_patch(user_device_box)\n",
    "ax.add_patch(user_usage_box)\n",
    "\n",
    "# Add text labels to the entities\n",
    "ax.text(0.25, 0.775, 'Device\\n(device, model, retail_branding, marketing_name)', fontsize=10, ha='center')\n",
    "ax.text(0.65, 0.775, 'User_Device\\n(use_id, user_id, platform, platform_version, device, use_type_id)', fontsize=10, ha='center')\n",
    "ax.text(0.65, 0.475, 'User_Usage\\n(use_id, outgoing_mins_per_month, outgoing_sms_per_month, monthly_mb)', fontsize=10, ha='center')\n",
    "\n",
    "# Draw the relationships (arrows)\n",
    "ax.annotate(\"\", xy=(0.4, 0.775), xytext=(0.5, 0.775), arrowprops=dict(arrowstyle=\"->\", lw=2))\n",
    "ax.annotate(\"\", xy=(0.65, 0.55), xytext=(0.65, 0.7), arrowprops=dict(arrowstyle=\"->\", lw=2))\n",
    "\n",
    "# Set limits and remove axes\n",
    "ax.set_xlim(0, 1)\n",
    "ax.set_ylim(0, 1)\n",
    "ax.axis('off')\n",
    "\n",
    "# Show the ERD plot\n",
    "plt.title('Entity-Relationship Diagram (ERD)', fontsize=14)\n",
    "plt.show()"
   ]
  },
  {
   "cell_type": "markdown",
   "metadata": {},
   "source": [
    "<span style=\"color:red; font-size:20px;\">Câu 3</span>"
   ]
  },
  {
   "cell_type": "code",
   "execution_count": 7,
   "metadata": {},
   "outputs": [],
   "source": [
    "thietbi.rename(columns={'Retail Branding': 'Branding', 'Marketing Name': 'MarketingName'}, inplace=True)"
   ]
  },
  {
   "cell_type": "markdown",
   "metadata": {},
   "source": [
    "<span style=\"color:red; font-size:20px;\">Câu 4</span>"
   ]
  },
  {
   "cell_type": "code",
   "execution_count": 8,
   "metadata": {},
   "outputs": [
    {
     "data": {
      "text/html": [
       "<div>\n",
       "<style scoped>\n",
       "    .dataframe tbody tr th:only-of-type {\n",
       "        vertical-align: middle;\n",
       "    }\n",
       "\n",
       "    .dataframe tbody tr th {\n",
       "        vertical-align: top;\n",
       "    }\n",
       "\n",
       "    .dataframe thead th {\n",
       "        text-align: right;\n",
       "    }\n",
       "</style>\n",
       "<table border=\"1\" class=\"dataframe\">\n",
       "  <thead>\n",
       "    <tr style=\"text-align: right;\">\n",
       "      <th></th>\n",
       "      <th>outgoing_mins_per_month</th>\n",
       "      <th>outgoing_sms_per_month</th>\n",
       "      <th>monthly_mb</th>\n",
       "      <th>use_id</th>\n",
       "      <th>platform</th>\n",
       "      <th>device</th>\n",
       "    </tr>\n",
       "  </thead>\n",
       "  <tbody>\n",
       "    <tr>\n",
       "      <th>0</th>\n",
       "      <td>21.97</td>\n",
       "      <td>4.82</td>\n",
       "      <td>1557.33</td>\n",
       "      <td>22787</td>\n",
       "      <td>android</td>\n",
       "      <td>GT-I9505</td>\n",
       "    </tr>\n",
       "    <tr>\n",
       "      <th>1</th>\n",
       "      <td>1710.08</td>\n",
       "      <td>136.88</td>\n",
       "      <td>7267.55</td>\n",
       "      <td>22788</td>\n",
       "      <td>android</td>\n",
       "      <td>SM-G930F</td>\n",
       "    </tr>\n",
       "    <tr>\n",
       "      <th>2</th>\n",
       "      <td>1710.08</td>\n",
       "      <td>136.88</td>\n",
       "      <td>7267.55</td>\n",
       "      <td>22789</td>\n",
       "      <td>android</td>\n",
       "      <td>SM-G930F</td>\n",
       "    </tr>\n",
       "    <tr>\n",
       "      <th>3</th>\n",
       "      <td>94.46</td>\n",
       "      <td>35.17</td>\n",
       "      <td>519.12</td>\n",
       "      <td>22790</td>\n",
       "      <td>android</td>\n",
       "      <td>D2303</td>\n",
       "    </tr>\n",
       "    <tr>\n",
       "      <th>4</th>\n",
       "      <td>71.59</td>\n",
       "      <td>79.26</td>\n",
       "      <td>1557.33</td>\n",
       "      <td>22792</td>\n",
       "      <td>android</td>\n",
       "      <td>SM-G361F</td>\n",
       "    </tr>\n",
       "  </tbody>\n",
       "</table>\n",
       "</div>"
      ],
      "text/plain": [
       "   outgoing_mins_per_month  outgoing_sms_per_month  monthly_mb  use_id  \\\n",
       "0                    21.97                    4.82     1557.33   22787   \n",
       "1                  1710.08                  136.88     7267.55   22788   \n",
       "2                  1710.08                  136.88     7267.55   22789   \n",
       "3                    94.46                   35.17      519.12   22790   \n",
       "4                    71.59                   79.26     1557.33   22792   \n",
       "\n",
       "  platform    device  \n",
       "0  android  GT-I9505  \n",
       "1  android  SM-G930F  \n",
       "2  android  SM-G930F  \n",
       "3  android     D2303  \n",
       "4  android  SM-G361F  "
      ]
     },
     "execution_count": 8,
     "metadata": {},
     "output_type": "execute_result"
    }
   ],
   "source": [
    "dfKetQua = pd.merge (nguoidung_sudung, nguoidung_thietbi[['use_id', 'platform', 'device']], on='use_id')\n",
    "dfKetQua.head(5)"
   ]
  },
  {
   "cell_type": "markdown",
   "metadata": {},
   "source": [
    "<span style=\"color:red; font-size:20px;\">Câu 5</span>"
   ]
  },
  {
   "cell_type": "code",
   "execution_count": 9,
   "metadata": {},
   "outputs": [],
   "source": [
    "# hoặc left-join\n",
    "dfKetQua = pd.merge(nguoidung_sudung, nguoidung_thietbi[['use_id', 'platform', 'device']], on='use_id', how='left')\n"
   ]
  },
  {
   "cell_type": "code",
   "execution_count": 10,
   "metadata": {},
   "outputs": [],
   "source": [
    "# câu 5\n",
    "dfKetQua = pd.merge(dfKetQua, thietbi[['Branding', 'Model']], left_on='device', right_on='Model')"
   ]
  },
  {
   "cell_type": "markdown",
   "metadata": {},
   "source": [
    "<span style=\"color:red; font-size:20px;\">Câu 6</span>"
   ]
  },
  {
   "cell_type": "code",
   "execution_count": 11,
   "metadata": {},
   "outputs": [
    {
     "data": {
      "text/html": [
       "<div>\n",
       "<style scoped>\n",
       "    .dataframe tbody tr th:only-of-type {\n",
       "        vertical-align: middle;\n",
       "    }\n",
       "\n",
       "    .dataframe tbody tr th {\n",
       "        vertical-align: top;\n",
       "    }\n",
       "\n",
       "    .dataframe thead th {\n",
       "        text-align: right;\n",
       "    }\n",
       "</style>\n",
       "<table border=\"1\" class=\"dataframe\">\n",
       "  <thead>\n",
       "    <tr style=\"text-align: right;\">\n",
       "      <th></th>\n",
       "      <th>outgoing_mins_per_month</th>\n",
       "      <th>outgoing_sms_per_month</th>\n",
       "      <th>monthly_mb</th>\n",
       "      <th>use_id</th>\n",
       "      <th>platform</th>\n",
       "      <th>device</th>\n",
       "      <th>Branding</th>\n",
       "      <th>Model</th>\n",
       "    </tr>\n",
       "  </thead>\n",
       "  <tbody>\n",
       "    <tr>\n",
       "      <th>0</th>\n",
       "      <td>21.97</td>\n",
       "      <td>4.82</td>\n",
       "      <td>1557.33</td>\n",
       "      <td>22787</td>\n",
       "      <td>android</td>\n",
       "      <td>GT-I9505</td>\n",
       "      <td>Samsung</td>\n",
       "      <td>GT-I9505</td>\n",
       "    </tr>\n",
       "    <tr>\n",
       "      <th>8</th>\n",
       "      <td>69.80</td>\n",
       "      <td>14.70</td>\n",
       "      <td>25955.55</td>\n",
       "      <td>22801</td>\n",
       "      <td>android</td>\n",
       "      <td>GT-I9505</td>\n",
       "      <td>Samsung</td>\n",
       "      <td>GT-I9505</td>\n",
       "    </tr>\n",
       "    <tr>\n",
       "      <th>10</th>\n",
       "      <td>189.10</td>\n",
       "      <td>24.08</td>\n",
       "      <td>519.12</td>\n",
       "      <td>22805</td>\n",
       "      <td>android</td>\n",
       "      <td>GT-I9195</td>\n",
       "      <td>Samsung</td>\n",
       "      <td>GT-I9195</td>\n",
       "    </tr>\n",
       "    <tr>\n",
       "      <th>29</th>\n",
       "      <td>85.97</td>\n",
       "      <td>26.94</td>\n",
       "      <td>407.01</td>\n",
       "      <td>22831</td>\n",
       "      <td>android</td>\n",
       "      <td>GT-I8190N</td>\n",
       "      <td>Samsung</td>\n",
       "      <td>GT-I8190N</td>\n",
       "    </tr>\n",
       "    <tr>\n",
       "      <th>52</th>\n",
       "      <td>29.54</td>\n",
       "      <td>34.78</td>\n",
       "      <td>33.79</td>\n",
       "      <td>22871</td>\n",
       "      <td>android</td>\n",
       "      <td>GT-I9300</td>\n",
       "      <td>Samsung</td>\n",
       "      <td>GT-I9300</td>\n",
       "    </tr>\n",
       "    <tr>\n",
       "      <th>53</th>\n",
       "      <td>29.54</td>\n",
       "      <td>34.78</td>\n",
       "      <td>33.79</td>\n",
       "      <td>22871</td>\n",
       "      <td>android</td>\n",
       "      <td>GT-I9300</td>\n",
       "      <td>Samsung</td>\n",
       "      <td>GT-I9300</td>\n",
       "    </tr>\n",
       "    <tr>\n",
       "      <th>56</th>\n",
       "      <td>249.26</td>\n",
       "      <td>253.22</td>\n",
       "      <td>1557.33</td>\n",
       "      <td>22875</td>\n",
       "      <td>android</td>\n",
       "      <td>GT-I9505</td>\n",
       "      <td>Samsung</td>\n",
       "      <td>GT-I9505</td>\n",
       "    </tr>\n",
       "    <tr>\n",
       "      <th>57</th>\n",
       "      <td>249.26</td>\n",
       "      <td>253.22</td>\n",
       "      <td>1557.33</td>\n",
       "      <td>22876</td>\n",
       "      <td>android</td>\n",
       "      <td>GT-I9505</td>\n",
       "      <td>Samsung</td>\n",
       "      <td>GT-I9505</td>\n",
       "    </tr>\n",
       "    <tr>\n",
       "      <th>62</th>\n",
       "      <td>83.46</td>\n",
       "      <td>114.06</td>\n",
       "      <td>3114.67</td>\n",
       "      <td>22880</td>\n",
       "      <td>android</td>\n",
       "      <td>GT-I9505</td>\n",
       "      <td>Samsung</td>\n",
       "      <td>GT-I9505</td>\n",
       "    </tr>\n",
       "    <tr>\n",
       "      <th>69</th>\n",
       "      <td>16.24</td>\n",
       "      <td>18.82</td>\n",
       "      <td>1557.33</td>\n",
       "      <td>22887</td>\n",
       "      <td>android</td>\n",
       "      <td>GT-I9195</td>\n",
       "      <td>Samsung</td>\n",
       "      <td>GT-I9195</td>\n",
       "    </tr>\n",
       "  </tbody>\n",
       "</table>\n",
       "</div>"
      ],
      "text/plain": [
       "    outgoing_mins_per_month  outgoing_sms_per_month  monthly_mb  use_id  \\\n",
       "0                     21.97                    4.82     1557.33   22787   \n",
       "8                     69.80                   14.70    25955.55   22801   \n",
       "10                   189.10                   24.08      519.12   22805   \n",
       "29                    85.97                   26.94      407.01   22831   \n",
       "52                    29.54                   34.78       33.79   22871   \n",
       "53                    29.54                   34.78       33.79   22871   \n",
       "56                   249.26                  253.22     1557.33   22875   \n",
       "57                   249.26                  253.22     1557.33   22876   \n",
       "62                    83.46                  114.06     3114.67   22880   \n",
       "69                    16.24                   18.82     1557.33   22887   \n",
       "\n",
       "   platform     device Branding      Model  \n",
       "0   android   GT-I9505  Samsung   GT-I9505  \n",
       "8   android   GT-I9505  Samsung   GT-I9505  \n",
       "10  android   GT-I9195  Samsung   GT-I9195  \n",
       "29  android  GT-I8190N  Samsung  GT-I8190N  \n",
       "52  android   GT-I9300  Samsung   GT-I9300  \n",
       "53  android   GT-I9300  Samsung   GT-I9300  \n",
       "56  android   GT-I9505  Samsung   GT-I9505  \n",
       "57  android   GT-I9505  Samsung   GT-I9505  \n",
       "62  android   GT-I9505  Samsung   GT-I9505  \n",
       "69  android   GT-I9195  Samsung   GT-I9195  "
      ]
     },
     "execution_count": 11,
     "metadata": {},
     "output_type": "execute_result"
    }
   ],
   "source": [
    "#câu 6\n",
    "dfKetQua[dfKetQua.device.str.startswith('GT')].head(10)"
   ]
  },
  {
   "cell_type": "markdown",
   "metadata": {},
   "source": [
    "<span style=\"color:red; font-size:20px;\">Câu 7</span>"
   ]
  },
  {
   "cell_type": "code",
   "execution_count": 12,
   "metadata": {},
   "outputs": [
    {
     "data": {
      "text/html": [
       "<div>\n",
       "<style scoped>\n",
       "    .dataframe tbody tr th:only-of-type {\n",
       "        vertical-align: middle;\n",
       "    }\n",
       "\n",
       "    .dataframe tbody tr th {\n",
       "        vertical-align: top;\n",
       "    }\n",
       "\n",
       "    .dataframe thead th {\n",
       "        text-align: right;\n",
       "    }\n",
       "</style>\n",
       "<table border=\"1\" class=\"dataframe\">\n",
       "  <thead>\n",
       "    <tr style=\"text-align: right;\">\n",
       "      <th></th>\n",
       "      <th>outgoing_mins_per_month</th>\n",
       "      <th>outgoing_sms_per_month</th>\n",
       "      <th>monthly_mb</th>\n",
       "      <th>use_id</th>\n",
       "    </tr>\n",
       "    <tr>\n",
       "      <th>Branding</th>\n",
       "      <th></th>\n",
       "      <th></th>\n",
       "      <th></th>\n",
       "      <th></th>\n",
       "    </tr>\n",
       "  </thead>\n",
       "  <tbody>\n",
       "    <tr>\n",
       "      <th>HTC</th>\n",
       "      <td>299.842955</td>\n",
       "      <td>93.059318</td>\n",
       "      <td>5144.077955</td>\n",
       "      <td>44</td>\n",
       "    </tr>\n",
       "    <tr>\n",
       "      <th>Huawei</th>\n",
       "      <td>81.526667</td>\n",
       "      <td>9.500000</td>\n",
       "      <td>1561.226667</td>\n",
       "      <td>3</td>\n",
       "    </tr>\n",
       "    <tr>\n",
       "      <th>LGE</th>\n",
       "      <td>111.530000</td>\n",
       "      <td>12.760000</td>\n",
       "      <td>1557.330000</td>\n",
       "      <td>2</td>\n",
       "    </tr>\n",
       "    <tr>\n",
       "      <th>Lava</th>\n",
       "      <td>60.650000</td>\n",
       "      <td>261.900000</td>\n",
       "      <td>12458.670000</td>\n",
       "      <td>2</td>\n",
       "    </tr>\n",
       "    <tr>\n",
       "      <th>Lenovo</th>\n",
       "      <td>215.920000</td>\n",
       "      <td>12.930000</td>\n",
       "      <td>1557.330000</td>\n",
       "      <td>2</td>\n",
       "    </tr>\n",
       "    <tr>\n",
       "      <th>Motorola</th>\n",
       "      <td>95.127500</td>\n",
       "      <td>65.666250</td>\n",
       "      <td>3946.500000</td>\n",
       "      <td>16</td>\n",
       "    </tr>\n",
       "    <tr>\n",
       "      <th>OnePlus</th>\n",
       "      <td>354.855000</td>\n",
       "      <td>48.330000</td>\n",
       "      <td>6575.410000</td>\n",
       "      <td>6</td>\n",
       "    </tr>\n",
       "    <tr>\n",
       "      <th>Samsung</th>\n",
       "      <td>191.010093</td>\n",
       "      <td>92.390463</td>\n",
       "      <td>4017.318889</td>\n",
       "      <td>108</td>\n",
       "    </tr>\n",
       "    <tr>\n",
       "      <th>Sony</th>\n",
       "      <td>177.315625</td>\n",
       "      <td>40.176250</td>\n",
       "      <td>3212.000625</td>\n",
       "      <td>16</td>\n",
       "    </tr>\n",
       "    <tr>\n",
       "      <th>Vodafone</th>\n",
       "      <td>42.750000</td>\n",
       "      <td>46.830000</td>\n",
       "      <td>5191.120000</td>\n",
       "      <td>1</td>\n",
       "    </tr>\n",
       "    <tr>\n",
       "      <th>ZTE</th>\n",
       "      <td>42.750000</td>\n",
       "      <td>46.830000</td>\n",
       "      <td>5191.120000</td>\n",
       "      <td>1</td>\n",
       "    </tr>\n",
       "  </tbody>\n",
       "</table>\n",
       "</div>"
      ],
      "text/plain": [
       "          outgoing_mins_per_month  outgoing_sms_per_month    monthly_mb  \\\n",
       "Branding                                                                  \n",
       "HTC                    299.842955               93.059318   5144.077955   \n",
       "Huawei                  81.526667                9.500000   1561.226667   \n",
       "LGE                    111.530000               12.760000   1557.330000   \n",
       "Lava                    60.650000              261.900000  12458.670000   \n",
       "Lenovo                 215.920000               12.930000   1557.330000   \n",
       "Motorola                95.127500               65.666250   3946.500000   \n",
       "OnePlus                354.855000               48.330000   6575.410000   \n",
       "Samsung                191.010093               92.390463   4017.318889   \n",
       "Sony                   177.315625               40.176250   3212.000625   \n",
       "Vodafone                42.750000               46.830000   5191.120000   \n",
       "ZTE                     42.750000               46.830000   5191.120000   \n",
       "\n",
       "          use_id  \n",
       "Branding          \n",
       "HTC           44  \n",
       "Huawei         3  \n",
       "LGE            2  \n",
       "Lava           2  \n",
       "Lenovo         2  \n",
       "Motorola      16  \n",
       "OnePlus        6  \n",
       "Samsung      108  \n",
       "Sony          16  \n",
       "Vodafone       1  \n",
       "ZTE            1  "
      ]
     },
     "execution_count": 12,
     "metadata": {},
     "output_type": "execute_result"
    }
   ],
   "source": [
    "#câu 7\n",
    "dfKetQua.groupby ('Branding').agg({\n",
    "'outgoing_mins_per_month':'mean',\n",
    "'outgoing_sms_per_month':'mean',\n",
    "'monthly_mb':'mean',\n",
    "'use_id': 'count'\n",
    "})"
   ]
  },
  {
   "cell_type": "markdown",
   "metadata": {},
   "source": [
    "<span style=\"color:red; font-size:20px;\">Câu 8</span>"
   ]
  },
  {
   "cell_type": "code",
   "execution_count": 13,
   "metadata": {},
   "outputs": [
    {
     "name": "stderr",
     "output_type": "stream",
     "text": [
      "C:\\Users\\ASUS\\AppData\\Local\\Temp\\ipykernel_18624\\1781709593.py:4: FutureWarning: \n",
      "\n",
      "Passing `palette` without assigning `hue` is deprecated and will be removed in v0.14.0. Assign the `y` variable to `hue` and set `legend=False` for the same effect.\n",
      "\n",
      "  sns.countplot(y= 'Branding', data = dfKetQua, palette=colors)\n",
      "C:\\Users\\ASUS\\AppData\\Local\\Temp\\ipykernel_18624\\1781709593.py:4: UserWarning: \n",
      "The palette list has fewer values (5) than needed (11) and will cycle, which may produce an uninterpretable plot.\n",
      "  sns.countplot(y= 'Branding', data = dfKetQua, palette=colors)\n"
     ]
    },
    {
     "data": {
      "image/png": "[encoded data removed]",
      "text/plain": [
       "<Figure size 640x480 with 1 Axes>"
      ]
     },
     "metadata": {},
     "output_type": "display_data"
    }
   ],
   "source": [
    "#câu 8\n",
    "colors = ['#FF6347', '#4682B4', '#32CD32', '#FFD700', '#DA70D6']  # Có thể chỉnh màu tùy thích\n",
    "\n",
    "sns.countplot(y= 'Branding', data = dfKetQua, palette=colors)\n",
    "plt.show()"
   ]
  },
  {
   "cell_type": "markdown",
   "metadata": {},
   "source": [
    "<span style=\"color:red; font-size:20px;\">Câu 9</span>"
   ]
  },
  {
   "cell_type": "code",
   "execution_count": 14,
   "metadata": {},
   "outputs": [
    {
     "name": "stderr",
     "output_type": "stream",
     "text": [
      "C:\\Users\\ASUS\\AppData\\Local\\Temp\\ipykernel_18624\\3531749977.py:3: FutureWarning: \n",
      "\n",
      "The `ci` parameter is deprecated. Use `errorbar=None` for the same effect.\n",
      "\n",
      "  sns.barplot(x='outgoing_mins_per_month', y='Branding', data=dfKetQua, ci=None)\n"
     ]
    },
    {
     "data": {
      "image/png": "[encoded data removed]",
      "text/plain": [
       "<Figure size 640x480 with 1 Axes>"
      ]
     },
     "metadata": {},
     "output_type": "display_data"
    }
   ],
   "source": [
    "# câu 9\n",
    "# Vẽ biểu đồ barplot không có gạch error bar\n",
    "sns.barplot(x='outgoing_mins_per_month', y='Branding', data=dfKetQua, ci=None)\n",
    "\n",
    "# Hiển thị biểu đồ\n",
    "plt.show()"
   ]
  },
  {
   "cell_type": "markdown",
   "metadata": {},
   "source": [
    "<span style=\"color:red; font-size:20px;\">Câu 10</span>"
   ]
  },
  {
   "cell_type": "code",
   "execution_count": 15,
   "metadata": {},
   "outputs": [
    {
     "data": {
      "image/png": "[encoded data removed]",
      "text/plain": [
       "<Figure size 640x480 with 1 Axes>"
      ]
     },
     "metadata": {},
     "output_type": "display_data"
    }
   ],
   "source": [
    "#10\n",
    "sns.scatterplot(data=dfKetQua, x='outgoing_mins_per_month', y='outgoing_sms_per_month', \n",
    "                hue='Branding', size='monthly_mb', sizes=(20, 200), \n",
    "                alpha=0.6, legend='brief')\n",
    "\n",
    "plt.show()"
   ]
  },
  {
   "cell_type": "code",
   "execution_count": 16,
   "metadata": {},
   "outputs": [
    {
     "name": "stdout",
     "output_type": "stream",
     "text": [
      "Index(['Retail Branding', 'Marketing Name', 'Device', 'Model'], dtype='object')\n"
     ]
    }
   ],
   "source": [
    "print(df.columns)\n"
   ]
  },
  {
   "cell_type": "markdown",
   "metadata": {},
   "source": [
    "<span style=\"color:red; font-size:20px;\">Câu 11</span>\n"
   ]
  },
  {
   "cell_type": "code",
   "execution_count": 17,
   "metadata": {},
   "outputs": [
    {
     "name": "stdout",
     "output_type": "stream",
     "text": [
      "T-statistic: 0.3678324474067915\n",
      "P-value: 0.7133871524810331\n",
      "Không đủ bằng chứng bác bỏ giả thuyết H0: Trung bình bằng 200 phút.\n"
     ]
    }
   ],
   "source": [
    "import scipy.stats as stats\n",
    "\n",
    "# Lấy cột 'outgoing_mins_per_month' từ dfKetQua\n",
    "outgoing_mins = dfKetQua['outgoing_mins_per_month']\n",
    "\n",
    "# Thực hiện kiểm định t một mẫu với giả thuyết trung bình bằng 200\n",
    "t_statistic, p_value = stats.ttest_1samp(outgoing_mins, 200)\n",
    "\n",
    "# Hiển thị kết quả\n",
    "print(f\"T-statistic: {t_statistic}\")\n",
    "print(f\"P-value: {p_value}\")\n",
    "\n",
    "# Kiểm định mức ý nghĩa alpha = 0.05\n",
    "alpha = 0.05\n",
    "if p_value < alpha:\n",
    "    print(\"Bác bỏ giả thuyết H0: Trung bình không bằng 200 phút.\")\n",
    "else:\n",
    "    print(\"Không đủ bằng chứng bác bỏ giả thuyết H0: Trung bình bằng 200 phút.\")\n"
   ]
  },
  {
   "cell_type": "markdown",
   "metadata": {},
   "source": [
    "<span style=\"color:red; font-size:20px;\">Câu 12</span>"
   ]
  },
  {
   "cell_type": "code",
   "execution_count": 18,
   "metadata": {},
   "outputs": [
    {
     "name": "stdout",
     "output_type": "stream",
     "text": [
      "T-statistic: -2.9567085781961198\n",
      "P-value: 0.003483493850205251\n",
      "Bác bỏ giả thuyết H0: Trung bình không bằng 100 phút.\n"
     ]
    }
   ],
   "source": [
    "import scipy.stats as stats\n",
    "\n",
    "# Lấy cột 'outgoing_mins_per_month' từ dfKetQua\n",
    "outgoing_mins = dfKetQua['outgoing_sms_per_month']\n",
    "\n",
    "# Thực hiện kiểm định t một mẫu với giả thuyết trung bình bằng 200\n",
    "t_statistic, p_value = stats.ttest_1samp(outgoing_mins, 100)\n",
    "\n",
    "# Hiển thị kết quả\n",
    "print(f\"T-statistic: {t_statistic}\")\n",
    "print(f\"P-value: {p_value}\")\n",
    "\n",
    "# Kiểm định mức ý nghĩa alpha = 0.05\n",
    "alpha = 0.05\n",
    "if p_value < alpha:\n",
    "    print(\"Bác bỏ giả thuyết H0: Trung bình không bằng 100 phút.\")\n",
    "else:\n",
    "    print(\"Không đủ bằng chứng bác bỏ giả thuyết H0: Trung bình bằng 200 phút.\")\n"
   ]
  },
  {
   "cell_type": "markdown",
   "metadata": {},
   "source": [
    "<span style=\"color:red; font-size:20px;\">Câu 13</span>"
   ]
  },
  {
   "cell_type": "code",
   "execution_count": 19,
   "metadata": {},
   "outputs": [
    {
     "name": "stdout",
     "output_type": "stream",
     "text": [
      "T-statistic: 5.918078326415772\n",
      "P-value: 1.3950238813156428e-08\n",
      "Bác bỏ giả thuyết H0: Trung bình không bằng 2048 phút.\n"
     ]
    }
   ],
   "source": [
    "import scipy.stats as stats\n",
    "\n",
    "# Lấy cột 'outgoing_mins_per_month' từ dfKetQua\n",
    "outgoing_mins = dfKetQua['monthly_mb']\n",
    "\n",
    "# Thực hiện kiểm định t một mẫu với giả thuyết trung bình bằng 200\n",
    "t_statistic, p_value = stats.ttest_1samp(outgoing_mins, 2048)\n",
    "\n",
    "# Hiển thị kết quả\n",
    "print(f\"T-statistic: {t_statistic}\")\n",
    "print(f\"P-value: {p_value}\")\n",
    "\n",
    "# Kiểm định mức ý nghĩa alpha = 0.05\n",
    "alpha = 0.05\n",
    "if p_value < alpha:\n",
    "    print(\"Bác bỏ giả thuyết H0: Trung bình không bằng 2048 phút.\")\n",
    "else:\n",
    "    print(\"Không đủ bằng chứng bác bỏ giả thuyết H0: Trung bình bằng 200 phút.\")\n",
    "\n",
    "\n"
   ]
  },
  {
   "cell_type": "markdown",
   "metadata": {},
   "source": [
    "<span style=\"color:red; font-size:20px;\">Câu 14</span>"
   ]
  },
  {
   "cell_type": "code",
   "execution_count": 20,
   "metadata": {},
   "outputs": [
    {
     "name": "stdout",
     "output_type": "stream",
     "text": [
      "monthly_mb               outgoing_sms_per_month    -0.046049\n",
      "outgoing_sms_per_month   monthly_mb                -0.046049\n",
      "outgoing_mins_per_month  outgoing_sms_per_month    -0.016494\n",
      "outgoing_sms_per_month   outgoing_mins_per_month   -0.016494\n",
      "monthly_mb               outgoing_mins_per_month    0.213489\n",
      "outgoing_mins_per_month  monthly_mb                 0.213489\n",
      "dtype: float64\n"
     ]
    }
   ],
   "source": [
    "import pandas as pd\n",
    "\n",
    "# 1. Chọn các cột cần tính ma trận tương quan\n",
    "cols = ['outgoing_mins_per_month', 'outgoing_sms_per_month', 'monthly_mb']\n",
    "\n",
    "# 2. Tạo ma trận tương quan cho các cột đã chọn\n",
    "corr_matrix = dfKetQua[cols].corr()\n",
    "\n",
    "# 3. Chuyển ma trận tương quan từ dạng bảng (DataFrame) thành dạng chuỗi (Series)\n",
    "#    để dễ dàng sắp xếp và xử lý\n",
    "corr_series = corr_matrix.unstack()\n",
    "\n",
    "# 4. Sắp xếp các giá trị tương quan từ thấp đến cao\n",
    "sorted_corr = corr_series.sort_values()\n",
    "\n",
    "# 5. Loại bỏ các giá trị tự tương quan (giá trị tương quan bằng 1) vì chúng không cần thiết\n",
    "sorted_corr = sorted_corr[sorted_corr != 1]\n",
    "\n",
    "# 6. In ma trận tương quan đã sắp xếp\n",
    "print(sorted_corr)\n"
   ]
  },
  {
   "cell_type": "markdown",
   "metadata": {},
   "source": [
    "<span style=\"color:red; font-size:20px;\">Câu 15</span>"
   ]
  },
  {
   "cell_type": "code",
   "execution_count": 21,
   "metadata": {},
   "outputs": [
    {
     "name": "stdout",
     "output_type": "stream",
     "text": [
      "Hệ số tương quan Pearson: -0.01649444168531939\n",
      "P-value: 0.8162223636414785\n",
      "Không có bằng chứng thống kê để kết luận hai biến có tương quan.\n"
     ]
    }
   ],
   "source": [
    "import scipy.stats as stats\n",
    "\n",
    "# Lấy dữ liệu từ hai cột\n",
    "x = dfKetQua['outgoing_mins_per_month']\n",
    "y = dfKetQua['outgoing_sms_per_month']\n",
    "\n",
    "# Thực hiện kiểm định Pearson\n",
    "corr_coef, p_value = stats.pearsonr(x, y)\n",
    "\n",
    "# In kết quả\n",
    "print(f\"Hệ số tương quan Pearson: {corr_coef}\")\n",
    "print(f\"P-value: {p_value}\")\n",
    "\n",
    "# Kết luận\n",
    "alpha = 0.05  # Mức ý nghĩa 5%\n",
    "if p_value < alpha:\n",
    "    print(\"Có bằng chứng thống kê cho thấy có sự tương quan giữa hai biến.\")\n",
    "else:\n",
    "    print(\"Không có bằng chứng thống kê để kết luận hai biến có tương quan.\")\n"
   ]
  },
  {
   "cell_type": "markdown",
   "metadata": {},
   "source": [
    "<span style=\"color:red; font-size:20px;\">Câu 16</span>"
   ]
  },
  {
   "cell_type": "code",
   "execution_count": 22,
   "metadata": {},
   "outputs": [
    {
     "name": "stdout",
     "output_type": "stream",
     "text": [
      "Chi-squared statistic: 0.0\n",
      "P-value: 1.0\n",
      "Degrees of freedom: 0\n",
      "Không đủ bằng chứng bác bỏ giả thuyết H0: Không có mối quan hệ giữa platform và branding.\n"
     ]
    }
   ],
   "source": [
    "\n",
    "# Tạo bảng tần số chéo giữa platform và branding\n",
    "contingency_table = pd.crosstab(dfKetQua['platform'], dfKetQua['Branding'])\n",
    "\n",
    "# Thực hiện kiểm định Chi-squared\n",
    "chi2_stat, p_value, dof, expected = stats.chi2_contingency(contingency_table)\n",
    "\n",
    "# Hiển thị kết quả\n",
    "print(f\"Chi-squared statistic: {chi2_stat}\")\n",
    "print(f\"P-value: {p_value}\")\n",
    "print(f\"Degrees of freedom: {dof}\")\n",
    "\n",
    "# Kiểm định mức ý nghĩa alpha = 0.05\n",
    "alpha = 0.05\n",
    "if p_value < alpha:\n",
    "    print(\"Bác bỏ giả thuyết H0: Có mối quan hệ giữa platform và branding.\")\n",
    "else:\n",
    "    print(\"Không đủ bằng chứng bác bỏ giả thuyết H0: Không có mối quan hệ giữa platform và branding.\")"
   ]
  },
  {
   "cell_type": "markdown",
   "metadata": {},
   "source": [
    "<span style=\"color:red; font-size:20px;\">Câu 17</span>"
   ]
  },
  {
   "cell_type": "code",
   "execution_count": 23,
   "metadata": {},
   "outputs": [
    {
     "name": "stdout",
     "output_type": "stream",
     "text": [
      "Chi-squared statistic: 0.0\n",
      "P-value: 1.0\n",
      "Degrees of freedom: 0\n",
      "Không đủ bằng chứng bác bỏ giả thuyết H0: Không có mối quan hệ giữa platform và  monthly_mb.\n"
     ]
    }
   ],
   "source": [
    "\n",
    "# Tạo bảng tần số chéo giữa platform và branding\n",
    "contingency_table = pd.crosstab(dfKetQua['platform'], dfKetQua['monthly_mb'])\n",
    "\n",
    "# Thực hiện kiểm định Chi-squared\n",
    "chi2_stat, p_value, dof, expected = stats.chi2_contingency(contingency_table)\n",
    "\n",
    "# Hiển thị kết quả\n",
    "print(f\"Chi-squared statistic: {chi2_stat}\")\n",
    "print(f\"P-value: {p_value}\")\n",
    "print(f\"Degrees of freedom: {dof}\")\n",
    "\n",
    "# Kiểm định mức ý nghĩa alpha = 0.05\n",
    "alpha = 0.05\n",
    "if p_value < alpha:\n",
    "    print(\"Bác bỏ giả thuyết H0: Có mối quan hệ giữa platform và  monthly_mb.\")\n",
    "else:\n",
    "    print(\"Không đủ bằng chứng bác bỏ giả thuyết H0: Không có mối quan hệ giữa platform và  monthly_mb.\")"
   ]
  },
  {
   "cell_type": "markdown",
   "metadata": {},
   "source": [
    "<span style=\"color:red; font-size:20px;\">Câu 18</span>"
   ]
  },
  {
   "cell_type": "code",
   "execution_count": 24,
   "metadata": {},
   "outputs": [
    {
     "name": "stdout",
     "output_type": "stream",
     "text": [
      "Không đủ dữ liệu để thực hiện kiểm định cho Branding: Samsung\n",
      "\n",
      "Không đủ dữ liệu để thực hiện kiểm định cho Branding: Sony\n",
      "\n",
      "Không đủ dữ liệu để thực hiện kiểm định cho Branding: OnePlus\n",
      "\n",
      "Không đủ dữ liệu để thực hiện kiểm định cho Branding: HTC\n",
      "\n",
      "Không đủ dữ liệu để thực hiện kiểm định cho Branding: LGE\n",
      "\n",
      "Không đủ dữ liệu để thực hiện kiểm định cho Branding: Huawei\n",
      "\n",
      "Không đủ dữ liệu để thực hiện kiểm định cho Branding: Motorola\n",
      "\n",
      "Không đủ dữ liệu để thực hiện kiểm định cho Branding: Lenovo\n",
      "\n",
      "Không đủ dữ liệu để thực hiện kiểm định cho Branding: Lava\n",
      "\n",
      "Không đủ dữ liệu để thực hiện kiểm định cho Branding: Vodafone\n",
      "\n",
      "Không đủ dữ liệu để thực hiện kiểm định cho Branding: ZTE\n",
      "\n"
     ]
    }
   ],
   "source": [
    "# Câu 18\n",
    "import scipy.stats as stats\n",
    "import pandas as pd\n",
    "\n",
    "# Lặp qua từng nhóm Branding và thực hiện kiểm định cho mỗi nhóm\n",
    "for brand in dfKetQua['Branding'].unique():\n",
    "    # Lọc dữ liệu theo từng loại branding\n",
    "    df_brand = dfKetQua[dfKetQua['Branding'] == brand]\n",
    "    \n",
    "    # Nhóm dữ liệu theo platform và kiểm tra giá trị monthly_mb\n",
    "    groups = [df_brand[df_brand['platform'] == platform]['monthly_mb'] for platform in df_brand['platform'].unique()]\n",
    "    \n",
    "    # Chỉ thực hiện kiểm định nếu có ít nhất 2 nhóm với dữ liệu\n",
    "    valid_groups = [group for group in groups if len(group) > 1]\n",
    "    \n",
    "    if len(valid_groups) > 1:\n",
    "        # Thực hiện kiểm định ANOVA một chiều\n",
    "        f_stat, p_value = stats.f_oneway(*valid_groups)\n",
    "        \n",
    "        # Hiển thị kết quả cho từng loại branding\n",
    "        print(f\"Kết quả kiểm định cho Branding: {brand}\")\n",
    "        print(f\"F-statistic: {f_stat}\")\n",
    "        print(f\"P-value: {p_value}\")\n",
    "        \n",
    "        # Kiểm định mức ý nghĩa alpha = 0.05\n",
    "        alpha = 0.05\n",
    "        if p_value < alpha:\n",
    "            print(f\"-> Bác bỏ giả thuyết H0: Có sự khác biệt về monthly_mb giữa các platform cho {brand}.\")\n",
    "        else:\n",
    "            print(f\"-> Không đủ bằng chứng bác bỏ giả thuyết H0: Không có sự khác biệt về monthly_mb giữa các platform cho {brand}.\")\n",
    "    else:\n",
    "        print(f\"Không đủ dữ liệu để thực hiện kiểm định cho Branding: {brand}\\n\")\n"
   ]
  },
  {
   "cell_type": "markdown",
   "metadata": {},
   "source": [
    "<span style=\"color:red; font-size:20px;\">Câu 19</span>"
   ]
  },
  {
   "cell_type": "code",
   "execution_count": 25,
   "metadata": {},
   "outputs": [
    {
     "name": "stdout",
     "output_type": "stream",
     "text": [
      "                            OLS Regression Results                            \n",
      "==============================================================================\n",
      "Dep. Variable:             monthly_mb   R-squared:                       0.047\n",
      "Model:                            OLS   Adj. R-squared:                  0.038\n",
      "Method:                 Least Squares   F-statistic:                     4.925\n",
      "Date:                Sat, 07 Sep 2024   Prob (F-statistic):            0.00818\n",
      "Time:                        20:07:43   Log-Likelihood:                -2005.3\n",
      "No. Observations:                 201   AIC:                             4017.\n",
      "Df Residuals:                     198   BIC:                             4027.\n",
      "Df Model:                           2                                         \n",
      "Covariance Type:            nonrobust                                         \n",
      "===========================================================================================\n",
      "                              coef    std err          t      P>|t|      [0.025      0.975]\n",
      "-------------------------------------------------------------------------------------------\n",
      "const                    3513.0441    631.350      5.564      0.000    2268.010    4758.078\n",
      "outgoing_mins_per_month     4.8782      1.590      3.067      0.002       1.742       8.014\n",
      "outgoing_sms_per_month     -2.8500      4.648     -0.613      0.540     -12.016       6.316\n",
      "==============================================================================\n",
      "Omnibus:                      107.866   Durbin-Watson:                   1.330\n",
      "Prob(Omnibus):                  0.000   Jarque-Bera (JB):              429.093\n",
      "Skew:                           2.237   Prob(JB):                     6.66e-94\n",
      "Kurtosis:                       8.587   Cond. No.                         539.\n",
      "==============================================================================\n",
      "\n",
      "Notes:\n",
      "[1] Standard Errors assume that the covariance matrix of the errors is correctly specified.\n"
     ]
    }
   ],
   "source": [
    "import pandas as pd\n",
    "import statsmodels.api as sm\n",
    "\n",
    "# Chọn các biến độc lập và biến phụ thuộc\n",
    "X = dfKetQua[['outgoing_mins_per_month', 'outgoing_sms_per_month']]\n",
    "y = dfKetQua['monthly_mb']\n",
    "\n",
    "# Thêm hằng số vào mô hình (intercept)\n",
    "X = sm.add_constant(X)\n",
    "\n",
    "# Xây dựng mô hình hồi quy tuyến tính\n",
    "model = sm.OLS(y, X).fit()\n",
    "\n",
    "# In ra tóm tắt kết quả của mô hình\n",
    "print(model.summary())\n",
    "\n"
   ]
  },
  {
   "cell_type": "markdown",
   "metadata": {},
   "source": [
    "<span style=\"color:red; font-size:20px;\">Câu 20</span>"
   ]
  },
  {
   "cell_type": "code",
   "execution_count": 26,
   "metadata": {},
   "outputs": [
    {
     "name": "stdout",
     "output_type": "stream",
     "text": [
      "Dung lượng dữ liệu dự báo cho tháng (monthly_mb): 3543.20 MB\n"
     ]
    }
   ],
   "source": [
    "\n",
    "\n",
    "import pandas as pd\n",
    "import statsmodels.api as sm\n",
    "\n",
    "\n",
    "# Xác định biến độc lập (outgoing_mins_per_month, outgoing_sms_per_month) và biến phụ thuộc (monthly_mb)\n",
    "X = dfKetQua[['outgoing_mins_per_month', 'outgoing_sms_per_month']]\n",
    "y = dfKetQua['monthly_mb']\n",
    "\n",
    "# Thêm hằng số vào mô hình (intercept)\n",
    "X = sm.add_constant(X)\n",
    "\n",
    "# Xây dựng mô hình hồi quy tuyến tính\n",
    "model = sm.OLS(y, X).fit()\n",
    "\n",
    "# Hàm dự báo dung lượng monthly_mb dựa trên input từ người dùng\n",
    "def predict_monthly_mb(outgoing_mins, outgoing_sms):\n",
    "    # Chuẩn bị dữ liệu đầu vào cho mô hình dự đoán\n",
    "    X_new = pd.DataFrame({'const': [1], 'outgoing_mins_per_month': [outgoing_mins], 'outgoing_sms_per_month': [outgoing_sms]})\n",
    "    \n",
    "    # Dự đoán giá trị monthly_mb\n",
    "    predicted_mb = model.predict(X_new)\n",
    "    return predicted_mb[0]\n",
    "\n",
    "# Main program\n",
    "if __name__ == \"__main__\":\n",
    "    # Nhập giá trị từ người dùng\n",
    "    try:\n",
    "        outgoing_mins_per_month = float(input(\"Nhập số phút gọi trong tháng (outgoing_mins_per_month): \"))\n",
    "        outgoing_sms_per_month = float(input(\"Nhập số tin nhắn trong tháng (outgoing_sms_per_month): \"))\n",
    "\n",
    "        # Dự đoán dung lượng dữ liệu monthly_mb\n",
    "        predicted_mb = predict_monthly_mb(outgoing_mins_per_month, outgoing_sms_per_month)\n",
    "\n",
    "        # Hiển thị kết quả\n",
    "        print(f\"Dung lượng dữ liệu dự báo cho tháng (monthly_mb): {predicted_mb:.2f} MB\")\n",
    "    except ValueError:\n",
    "        print(\"Vui lòng nhập số hợp lệ cho số phút gọi và tin nhắn.\")"
   ]
  },
  {
   "cell_type": "code",
   "execution_count": null,
   "metadata": {},
   "outputs": [],
   "source": []
  },
  {
   "cell_type": "code",
   "execution_count": null,
   "metadata": {},
   "outputs": [],
   "source": []
  }
 ],
 "metadata": {
  "kernelspec": {
   "display_name": "Python 3",
   "language": "python",
   "name": "python3"
  },
  "language_info": {
   "codemirror_mode": {
    "name": "ipython",
    "version": 3
   },
   "file_extension": ".py",
   "mimetype": "text/x-python",
   "name": "python",
   "nbconvert_exporter": "python",
   "pygments_lexer": "ipython3",
   "version": "3.12.5"
  }
 },
 "nbformat": 4,
 "nbformat_minor": 2
}
